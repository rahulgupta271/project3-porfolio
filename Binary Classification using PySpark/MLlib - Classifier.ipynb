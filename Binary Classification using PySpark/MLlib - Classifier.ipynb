{
 "cells": [
  {
   "cell_type": "markdown",
   "metadata": {},
   "source": [
    "# Fit a Binary Logistic Regression Model to a Dataset"
   ]
  },
  {
   "cell_type": "markdown",
   "metadata": {},
   "source": [
    "## 1. Build a Classification Model\n",
    "\n"
   ]
  },
  {
   "cell_type": "markdown",
   "metadata": {},
   "source": [
    "In this exercise, you will fit a binary logistic regression model to the baby name dataset you used in the previous exercise. This model will predict the sex of a person based on their age, name, and state they were born in. To train the model, you will use the data found in baby-names/names-classifier."
   ]
  },
  {
   "cell_type": "markdown",
   "metadata": {},
   "source": [
    "#### Importing data"
   ]
  },
  {
   "cell_type": "code",
   "execution_count": 1,
   "metadata": {},
   "outputs": [],
   "source": [
    "# Import required modules\n",
    "from pyspark.sql import SparkSession\n",
    "from pyspark import SparkConf\n",
    "from pyspark import SparkContext\n",
    "from pyspark.ml.feature import StringIndexer, OneHotEncoder, VectorAssembler\n",
    "from pyspark.ml import Pipeline\n",
    "from pyspark.ml.classification import LogisticRegression\n",
    "\n",
    "import pandas as pd\n",
    "import matplotlib.pyplot as plt\n",
    "import numpy as np\n",
    "\n",
    "spark = SparkSession.builder.appName('week10') \\\n",
    "        .getOrCreate()\n"
   ]
  },
  {
   "cell_type": "code",
   "execution_count": 2,
   "metadata": {},
   "outputs": [
    {
     "name": "stdout",
     "output_type": "stream",
     "text": [
      "+------+-----+---+---+\n",
      "|  name|state|sex|age|\n",
      "+------+-----+---+---+\n",
      "|Joseph|   PA|  M| 26|\n",
      "|Joseph|   PA|  M| 26|\n",
      "|Joseph|   PA|  M| 26|\n",
      "|Joseph|   PA|  M| 26|\n",
      "|Joseph|   PA|  M| 26|\n",
      "|Joseph|   PA|  M| 26|\n",
      "|Joseph|   PA|  M| 26|\n",
      "|Joseph|   PA|  M| 26|\n",
      "|Joseph|   PA|  M| 26|\n",
      "|Joseph|   PA|  M| 26|\n",
      "|Joseph|   PA|  M| 26|\n",
      "|Joseph|   PA|  M| 26|\n",
      "|Joseph|   PA|  M| 26|\n",
      "|Joseph|   PA|  M| 26|\n",
      "|Joseph|   PA|  M| 26|\n",
      "|Joseph|   PA|  M| 26|\n",
      "|Joseph|   PA|  M| 26|\n",
      "|Joseph|   PA|  M| 26|\n",
      "|Joseph|   PA|  M| 26|\n",
      "|Joseph|   PA|  M| 26|\n",
      "+------+-----+---+---+\n",
      "only showing top 20 rows\n",
      "\n"
     ]
    }
   ],
   "source": [
    "df = spark.read.parquet(\"/home/ram/share/650/dsc650-master/data/baby-names/names_classifier\")\n",
    "df.show()"
   ]
  },
  {
   "cell_type": "code",
   "execution_count": 3,
   "metadata": {},
   "outputs": [
    {
     "data": {
      "text/plain": [
       "308180519"
      ]
     },
     "execution_count": 3,
     "metadata": {},
     "output_type": "execute_result"
    }
   ],
   "source": [
    "df.count()"
   ]
  },
  {
   "cell_type": "code",
   "execution_count": 4,
   "metadata": {},
   "outputs": [],
   "source": [
    "whole_df = df # taking backup of dataframe\n",
    "\n",
    "distinct_df = df.distinct() # removing duplicates from df\n",
    "\n",
    "df = distinct_df # copying distinct records into the main df"
   ]
  },
  {
   "cell_type": "code",
   "execution_count": 5,
   "metadata": {},
   "outputs": [
    {
     "data": {
      "text/plain": [
       "5933561"
      ]
     },
     "execution_count": 5,
     "metadata": {},
     "output_type": "execute_result"
    }
   ],
   "source": [
    "df.count()"
   ]
  },
  {
   "cell_type": "markdown",
   "metadata": {},
   "source": [
    "### a. Prepare in Input Features\n"
   ]
  },
  {
   "cell_type": "markdown",
   "metadata": {},
   "source": [
    "First, you will need to prepare each of the input features. While age is a numeric feature, state and name are not. These need to be converted into numeric vectors before you can train the model. Use a StringIndexer along with the OneHotEncoderEstimator to convert the name, state, and sex columns into numeric vectors. Use the VectorAssembler to combine the name, state, and age vectors into a single features vector. Your final dataset should contain a column called features containing the prepared vector and a column called label containing the sex of the person.\n",
    "\n"
   ]
  },
  {
   "cell_type": "markdown",
   "metadata": {},
   "source": [
    " #### Use a StringIndexer along with the OneHotEncoderEstimator to convert the name, state, and sex columns into numeric vectors"
   ]
  },
  {
   "cell_type": "code",
   "execution_count": 6,
   "metadata": {},
   "outputs": [],
   "source": [
    "name_indexer = StringIndexer(inputCol = \"name\", outputCol= \"nameInd\")\n",
    "name_trsf = name_indexer.fit(df).transform(df) # transform(df.select(\"name\"))\n",
    "name_ohe = OneHotEncoder(inputCol = \"nameInd\", outputCol= \"name_ohe\")\n",
    "name_featurevect = name_ohe.transform(name_trsf)"
   ]
  },
  {
   "cell_type": "code",
   "execution_count": 7,
   "metadata": {},
   "outputs": [
    {
     "data": {
      "text/plain": [
       "DataFrame[name: string, state: string, sex: string, age: int, nameInd: double, name_ohe: vector]"
      ]
     },
     "execution_count": 7,
     "metadata": {},
     "output_type": "execute_result"
    }
   ],
   "source": [
    "name_featurevect"
   ]
  },
  {
   "cell_type": "code",
   "execution_count": 8,
   "metadata": {},
   "outputs": [],
   "source": [
    "state_indexer = StringIndexer(inputCol = \"state\", outputCol= \"stateInd\")\n",
    "state_trsf = state_indexer.fit(name_featurevect).transform(name_featurevect) # transform(df.select(\"state\"))\n",
    "state_ohe= OneHotEncoder(inputCol = \"stateInd\", outputCol= \"state_ohe\")\n",
    "state_featurevect = state_ohe.transform(state_trsf)"
   ]
  },
  {
   "cell_type": "code",
   "execution_count": 9,
   "metadata": {},
   "outputs": [
    {
     "data": {
      "text/plain": [
       "DataFrame[name: string, state: string, sex: string, age: int, nameInd: double, name_ohe: vector, stateInd: double, state_ohe: vector]"
      ]
     },
     "execution_count": 9,
     "metadata": {},
     "output_type": "execute_result"
    }
   ],
   "source": [
    "state_featurevect"
   ]
  },
  {
   "cell_type": "code",
   "execution_count": 10,
   "metadata": {},
   "outputs": [
    {
     "name": "stdout",
     "output_type": "stream",
     "text": [
      "+-------+-----+---+---+-------+--------------------+--------+---------------+\n",
      "|   name|state|sex|age|nameInd|            name_ohe|stateInd|      state_ohe|\n",
      "+-------+-----+---+---+-------+--------------------+--------+---------------+\n",
      "|  Aaden|   AL|  M|  7| 4000.0|(31313,[4000],[1.0])|    16.0|(50,[16],[1.0])|\n",
      "|  Aaden|   AZ|  M|  4| 4000.0|(31313,[4000],[1.0])|    23.0|(50,[23],[1.0])|\n",
      "|  Aaden|   CT|  M|  9| 4000.0|(31313,[4000],[1.0])|    33.0|(50,[33],[1.0])|\n",
      "|  Aaden|   MS|  M|  5| 4000.0|(31313,[4000],[1.0])|    24.0|(50,[24],[1.0])|\n",
      "|  Aadya|   MA|  F|  2| 7564.0|(31313,[7564],[1.0])|    18.0|(50,[18],[1.0])|\n",
      "| Aaiden|   IL|  M|  2| 9589.0|(31313,[9589],[1.0])|     3.0| (50,[3],[1.0])|\n",
      "|Aaliyah|   CO|  F| 10| 1523.0|(31313,[1523],[1.0])|    27.0|(50,[27],[1.0])|\n",
      "|Aaliyah|   DE|  F|  5| 1523.0|(31313,[1523],[1.0])|    47.0|(50,[47],[1.0])|\n",
      "|Aaliyah|   LA|  F| 15| 1523.0|(31313,[1523],[1.0])|    11.0|(50,[11],[1.0])|\n",
      "|Aaliyah|   NE|  F| 13| 1523.0|(31313,[1523],[1.0])|    36.0|(50,[36],[1.0])|\n",
      "|Aaliyah|   TN|  F| 15| 1523.0|(31313,[1523],[1.0])|    13.0|(50,[13],[1.0])|\n",
      "|  Aamir|   TX|  M|  1| 5641.0|(31313,[5641],[1.0])|     1.0| (50,[1],[1.0])|\n",
      "|  Aarav|   GA|  M|  8| 4063.0|(31313,[4063],[1.0])|     8.0| (50,[8],[1.0])|\n",
      "|  Aarav|   MD|  M|  6| 4063.0|(31313,[4063],[1.0])|    26.0|(50,[26],[1.0])|\n",
      "|  Aaron|   GA|  M| 92|  120.0| (31313,[120],[1.0])|     8.0| (50,[8],[1.0])|\n",
      "|  Aaron|   ID|  M| 27|  120.0| (31313,[120],[1.0])|    37.0|(50,[37],[1.0])|\n",
      "|  Aaron|   MA|  M| 39|  120.0| (31313,[120],[1.0])|    18.0|(50,[18],[1.0])|\n",
      "|  Aaron|   MA|  M| 87|  120.0| (31313,[120],[1.0])|    18.0|(50,[18],[1.0])|\n",
      "|  Aaron|   MN|  M| 79|  120.0| (31313,[120],[1.0])|    25.0|(50,[25],[1.0])|\n",
      "|  Aaron|   MO|  M|  5|  120.0| (31313,[120],[1.0])|    15.0|(50,[15],[1.0])|\n",
      "+-------+-----+---+---+-------+--------------------+--------+---------------+\n",
      "only showing top 20 rows\n",
      "\n"
     ]
    }
   ],
   "source": [
    "state_featurevect.show()"
   ]
  },
  {
   "cell_type": "code",
   "execution_count": 11,
   "metadata": {},
   "outputs": [],
   "source": [
    "sex_indexer = StringIndexer(inputCol = \"sex\", outputCol= \"sex_label\")\n",
    "sex_label = sex_indexer.fit(state_featurevect).transform(state_featurevect) # transform(df.select(\"sex\"))\n",
    "sex_ohe = OneHotEncoder(inputCol = \"sex_label\", outputCol= \"sex_ohe_label\")\n",
    "features_label = sex_ohe.transform(sex_label)"
   ]
  },
  {
   "cell_type": "code",
   "execution_count": 12,
   "metadata": {},
   "outputs": [
    {
     "data": {
      "text/plain": [
       "DataFrame[name: string, state: string, sex: string, age: int, nameInd: double, name_ohe: vector, stateInd: double, state_ohe: vector, sex_label: double, sex_ohe_label: vector]"
      ]
     },
     "execution_count": 12,
     "metadata": {},
     "output_type": "execute_result"
    }
   ],
   "source": [
    "features_label"
   ]
  },
  {
   "cell_type": "code",
   "execution_count": 13,
   "metadata": {},
   "outputs": [
    {
     "name": "stdout",
     "output_type": "stream",
     "text": [
      "+-------+-----+---+---+-------+--------------------+--------+---------------+---------+-------------+\n",
      "|   name|state|sex|age|nameInd|            name_ohe|stateInd|      state_ohe|sex_label|sex_ohe_label|\n",
      "+-------+-----+---+---+-------+--------------------+--------+---------------+---------+-------------+\n",
      "|  Aaden|   AL|  M|  7| 4000.0|(31313,[4000],[1.0])|    16.0|(50,[16],[1.0])|      1.0|    (1,[],[])|\n",
      "|  Aaden|   AZ|  M|  4| 4000.0|(31313,[4000],[1.0])|    23.0|(50,[23],[1.0])|      1.0|    (1,[],[])|\n",
      "|  Aaden|   CT|  M|  9| 4000.0|(31313,[4000],[1.0])|    33.0|(50,[33],[1.0])|      1.0|    (1,[],[])|\n",
      "|  Aaden|   MS|  M|  5| 4000.0|(31313,[4000],[1.0])|    24.0|(50,[24],[1.0])|      1.0|    (1,[],[])|\n",
      "|  Aadya|   MA|  F|  2| 7564.0|(31313,[7564],[1.0])|    18.0|(50,[18],[1.0])|      0.0|(1,[0],[1.0])|\n",
      "| Aaiden|   IL|  M|  2| 9589.0|(31313,[9589],[1.0])|     3.0| (50,[3],[1.0])|      1.0|    (1,[],[])|\n",
      "|Aaliyah|   CO|  F| 10| 1523.0|(31313,[1523],[1.0])|    27.0|(50,[27],[1.0])|      0.0|(1,[0],[1.0])|\n",
      "|Aaliyah|   DE|  F|  5| 1523.0|(31313,[1523],[1.0])|    47.0|(50,[47],[1.0])|      0.0|(1,[0],[1.0])|\n",
      "|Aaliyah|   LA|  F| 15| 1523.0|(31313,[1523],[1.0])|    11.0|(50,[11],[1.0])|      0.0|(1,[0],[1.0])|\n",
      "|Aaliyah|   NE|  F| 13| 1523.0|(31313,[1523],[1.0])|    36.0|(50,[36],[1.0])|      0.0|(1,[0],[1.0])|\n",
      "|Aaliyah|   TN|  F| 15| 1523.0|(31313,[1523],[1.0])|    13.0|(50,[13],[1.0])|      0.0|(1,[0],[1.0])|\n",
      "|  Aamir|   TX|  M|  1| 5641.0|(31313,[5641],[1.0])|     1.0| (50,[1],[1.0])|      1.0|    (1,[],[])|\n",
      "|  Aarav|   GA|  M|  8| 4063.0|(31313,[4063],[1.0])|     8.0| (50,[8],[1.0])|      1.0|    (1,[],[])|\n",
      "|  Aarav|   MD|  M|  6| 4063.0|(31313,[4063],[1.0])|    26.0|(50,[26],[1.0])|      1.0|    (1,[],[])|\n",
      "|  Aaron|   GA|  M| 92|  120.0| (31313,[120],[1.0])|     8.0| (50,[8],[1.0])|      1.0|    (1,[],[])|\n",
      "|  Aaron|   ID|  M| 27|  120.0| (31313,[120],[1.0])|    37.0|(50,[37],[1.0])|      1.0|    (1,[],[])|\n",
      "|  Aaron|   MA|  M| 39|  120.0| (31313,[120],[1.0])|    18.0|(50,[18],[1.0])|      1.0|    (1,[],[])|\n",
      "|  Aaron|   MA|  M| 87|  120.0| (31313,[120],[1.0])|    18.0|(50,[18],[1.0])|      1.0|    (1,[],[])|\n",
      "|  Aaron|   MN|  M| 79|  120.0| (31313,[120],[1.0])|    25.0|(50,[25],[1.0])|      1.0|    (1,[],[])|\n",
      "|  Aaron|   MO|  M|  5|  120.0| (31313,[120],[1.0])|    15.0|(50,[15],[1.0])|      1.0|    (1,[],[])|\n",
      "+-------+-----+---+---+-------+--------------------+--------+---------------+---------+-------------+\n",
      "only showing top 20 rows\n",
      "\n"
     ]
    }
   ],
   "source": [
    "features_label.show()"
   ]
  },
  {
   "cell_type": "code",
   "execution_count": 14,
   "metadata": {},
   "outputs": [
    {
     "data": {
      "text/plain": [
       "['name', 'state', 'sex', 'age']"
      ]
     },
     "execution_count": 14,
     "metadata": {},
     "output_type": "execute_result"
    }
   ],
   "source": [
    "df.columns"
   ]
  },
  {
   "cell_type": "markdown",
   "metadata": {},
   "source": [
    "#### Use the VectorAssembler to combine the name, state, and age vectors into a single features vector"
   ]
  },
  {
   "cell_type": "code",
   "execution_count": 15,
   "metadata": {},
   "outputs": [],
   "source": [
    "features_assembler = VectorAssembler(inputCols = [\"name_ohe\",\"state_ohe\",\"age\"],outputCol = \"features\")\n",
    "assembler_op = features_assembler.transform(features_label)"
   ]
  },
  {
   "cell_type": "code",
   "execution_count": 16,
   "metadata": {},
   "outputs": [
    {
     "data": {
      "text/plain": [
       "DataFrame[name: string, state: string, sex: string, age: int, nameInd: double, name_ohe: vector, stateInd: double, state_ohe: vector, sex_label: double, sex_ohe_label: vector, features: vector]"
      ]
     },
     "execution_count": 16,
     "metadata": {},
     "output_type": "execute_result"
    }
   ],
   "source": [
    "assembler_op"
   ]
  },
  {
   "cell_type": "code",
   "execution_count": 17,
   "metadata": {},
   "outputs": [
    {
     "data": {
      "text/plain": [
       "['features', 'sex_label']"
      ]
     },
     "execution_count": 17,
     "metadata": {},
     "output_type": "execute_result"
    }
   ],
   "source": [
    "final_dataset = assembler_op.select('features', 'sex_label')\n",
    "final_dataset.columns"
   ]
  },
  {
   "cell_type": "code",
   "execution_count": 18,
   "metadata": {},
   "outputs": [
    {
     "name": "stdout",
     "output_type": "stream",
     "text": [
      "+--------------------+---------+\n",
      "|            features|sex_label|\n",
      "+--------------------+---------+\n",
      "|(31364,[4000,3132...|      1.0|\n",
      "|(31364,[4000,3133...|      1.0|\n",
      "|(31364,[4000,3134...|      1.0|\n",
      "|(31364,[4000,3133...|      1.0|\n",
      "|(31364,[7564,3133...|      0.0|\n",
      "|(31364,[9589,3131...|      1.0|\n",
      "|(31364,[1523,3134...|      0.0|\n",
      "|(31364,[1523,3136...|      0.0|\n",
      "|(31364,[1523,3132...|      0.0|\n",
      "|(31364,[1523,3134...|      0.0|\n",
      "|(31364,[1523,3132...|      0.0|\n",
      "|(31364,[5641,3131...|      1.0|\n",
      "|(31364,[4063,3132...|      1.0|\n",
      "|(31364,[4063,3133...|      1.0|\n",
      "|(31364,[120,31321...|      1.0|\n",
      "|(31364,[120,31350...|      1.0|\n",
      "|(31364,[120,31331...|      1.0|\n",
      "|(31364,[120,31331...|      1.0|\n",
      "|(31364,[120,31338...|      1.0|\n",
      "|(31364,[120,31328...|      1.0|\n",
      "+--------------------+---------+\n",
      "only showing top 20 rows\n",
      "\n"
     ]
    }
   ],
   "source": [
    "final_dataset.show()"
   ]
  },
  {
   "cell_type": "markdown",
   "metadata": {},
   "source": [
    "## 2. Fit and Evaluate the Model\n"
   ]
  },
  {
   "cell_type": "markdown",
   "metadata": {},
   "source": [
    "Fit the model as a logistic regression model with the following parameters. LogisticRegression(maxIter=10, regParam=0.3, elasticNetParam=0.8). Provide the area under the ROC curve for the model."
   ]
  },
  {
   "cell_type": "code",
   "execution_count": 19,
   "metadata": {},
   "outputs": [
    {
     "name": "stdout",
     "output_type": "stream",
     "text": [
      "aggregationDepth: suggested depth for treeAggregate (>= 2). (default: 2)\n",
      "elasticNetParam: the ElasticNet mixing parameter, in range [0, 1]. For alpha = 0, the penalty is an L2 penalty. For alpha = 1, it is an L1 penalty. (default: 0.0, current: 0.8)\n",
      "family: The name of family which is a description of the label distribution to be used in the model. Supported options: auto, binomial, multinomial (default: auto)\n",
      "featuresCol: features column name. (default: features, current: features)\n",
      "fitIntercept: whether to fit an intercept term. (default: True)\n",
      "labelCol: label column name. (default: label, current: sex_label)\n",
      "lowerBoundsOnCoefficients: The lower bounds on coefficients if fitting under bound constrained optimization. The bound matrix must be compatible with the shape (1, number of features) for binomial regression, or (number of classes, number of features) for multinomial regression. (undefined)\n",
      "lowerBoundsOnIntercepts: The lower bounds on intercepts if fitting under bound constrained optimization. The bounds vector size must beequal with 1 for binomial regression, or the number oflasses for multinomial regression. (undefined)\n",
      "maxIter: max number of iterations (>= 0). (default: 100, current: 10)\n",
      "predictionCol: prediction column name. (default: prediction)\n",
      "probabilityCol: Column name for predicted class conditional probabilities. Note: Not all models output well-calibrated probability estimates! These probabilities should be treated as confidences, not precise probabilities. (default: probability)\n",
      "rawPredictionCol: raw prediction (a.k.a. confidence) column name. (default: rawPrediction)\n",
      "regParam: regularization parameter (>= 0). (default: 0.0, current: 0.3)\n",
      "standardization: whether to standardize the training features before fitting the model. (default: True)\n",
      "threshold: Threshold in binary classification prediction, in range [0, 1]. If threshold and thresholds are both set, they must match.e.g. if threshold is p, then thresholds must be equal to [1-p, p]. (default: 0.5)\n",
      "thresholds: Thresholds in multi-class classification to adjust the probability of predicting each class. Array must have length equal to the number of classes, with values > 0, excepting that at most one value may be 0. The class with largest value p/t is predicted, where p is the original probability of that class and t is the class's threshold. (undefined)\n",
      "tol: the convergence tolerance for iterative algorithms (>= 0). (default: 1e-06)\n",
      "upperBoundsOnCoefficients: The upper bounds on coefficients if fitting under bound constrained optimization. The bound matrix must be compatible with the shape (1, number of features) for binomial regression, or (number of classes, number of features) for multinomial regression. (undefined)\n",
      "upperBoundsOnIntercepts: The upper bounds on intercepts if fitting under bound constrained optimization. The bound vector size must be equal with 1 for binomial regression, or the number of classes for multinomial regression. (undefined)\n",
      "weightCol: weight column name. If this is not set or empty, we treat all instance weights as 1.0. (undefined)\n"
     ]
    }
   ],
   "source": [
    "lr = LogisticRegression(labelCol = 'sex_label',featuresCol = 'features', maxIter=10, regParam=0.3, elasticNetParam=0.8)\n",
    "print(lr.explainParams())"
   ]
  },
  {
   "cell_type": "code",
   "execution_count": 20,
   "metadata": {},
   "outputs": [],
   "source": [
    "# test train split\n",
    "train_data, test_data = final_dataset.randomSplit([0.7, 0.3], seed = 1)"
   ]
  },
  {
   "cell_type": "code",
   "execution_count": 21,
   "metadata": {},
   "outputs": [
    {
     "name": "stdout",
     "output_type": "stream",
     "text": [
      "Training data set count : 4154257\n",
      "\n",
      "\n",
      "Test data set count : 1779304\n"
     ]
    }
   ],
   "source": [
    "print(\"Training data set count : \" + str(train_data.count()))\n",
    "print(\"\\n\")\n",
    "print(\"Test data set count : \" + str(test_data.count()))"
   ]
  },
  {
   "cell_type": "code",
   "execution_count": 22,
   "metadata": {},
   "outputs": [],
   "source": [
    "# Fit the logistic regression model\n",
    "lr_model = lr.fit(train_data)"
   ]
  },
  {
   "cell_type": "code",
   "execution_count": 23,
   "metadata": {},
   "outputs": [],
   "source": [
    "# print fitted logistic regression model summary\n",
    "lr_model_summary = lr_model.summary"
   ]
  },
  {
   "cell_type": "code",
   "execution_count": 24,
   "metadata": {},
   "outputs": [
    {
     "name": "stdout",
     "output_type": "stream",
     "text": [
      "+---+---+\n",
      "|FPR|TPR|\n",
      "+---+---+\n",
      "|0.0|0.0|\n",
      "|1.0|1.0|\n",
      "|1.0|1.0|\n",
      "+---+---+\n",
      "\n"
     ]
    }
   ],
   "source": [
    "# print the roc (of trained data) as a data frame \n",
    "lr_model_summary.roc.show(10)"
   ]
  },
  {
   "cell_type": "code",
   "execution_count": 30,
   "metadata": {},
   "outputs": [
    {
     "data": {
      "image/png": "[encoded data removed]",
      "text/plain": [
       "<Figure size 432x288 with 1 Axes>"
      ]
     },
     "metadata": {
      "needs_background": "light"
     },
     "output_type": "display_data"
    }
   ],
   "source": [
    "# plotting ROC Curve\n",
    "roc = lr_model.summary.roc.toPandas()\n",
    "plt.plot(roc['FPR'], roc['TPR'])\n",
    "plt.ylabel('False Positive Rate')\n",
    "plt.xlabel('True Positive Rate')\n",
    "plt.title('ROC Curve')\n",
    "plt.show()"
   ]
  },
  {
   "cell_type": "code",
   "execution_count": 31,
   "metadata": {},
   "outputs": [
    {
     "name": "stdout",
     "output_type": "stream",
     "text": [
      "Training set areaUnderROC : \n",
      "0.5\n"
     ]
    }
   ],
   "source": [
    "# print area under curve (of trained data) \n",
    "print(\"Training set areaUnderROC : \")\n",
    "print(lr_model_summary.areaUnderROC)"
   ]
  },
  {
   "cell_type": "markdown",
   "metadata": {},
   "source": [
    "#### Model Evaluation"
   ]
  },
  {
   "cell_type": "code",
   "execution_count": 32,
   "metadata": {},
   "outputs": [],
   "source": [
    "predict_train = lr_model.transform(train_data)\n",
    "predict_test = lr_model.transform(test_data)"
   ]
  },
  {
   "cell_type": "code",
   "execution_count": 40,
   "metadata": {},
   "outputs": [
    {
     "data": {
      "text/plain": [
       "['features', 'sex_label', 'rawPrediction', 'probability', 'prediction']"
      ]
     },
     "execution_count": 40,
     "metadata": {},
     "output_type": "execute_result"
    }
   ],
   "source": [
    "predict_test.columns"
   ]
  },
  {
   "cell_type": "code",
   "execution_count": 42,
   "metadata": {},
   "outputs": [
    {
     "name": "stdout",
     "output_type": "stream",
     "text": [
      "+--------------------+---------+----------+\n",
      "|            features|sex_label|prediction|\n",
      "+--------------------+---------+----------+\n",
      "|(31364,[0,31319,3...|      0.0|       0.0|\n",
      "|(31364,[0,31327,3...|      1.0|       0.0|\n",
      "|(31364,[0,31336,3...|      1.0|       0.0|\n",
      "|(31364,[0,31339,3...|      1.0|       0.0|\n",
      "|(31364,[0,31339,3...|      1.0|       0.0|\n",
      "|(31364,[0,31341,3...|      1.0|       0.0|\n",
      "|(31364,[0,31345,3...|      1.0|       0.0|\n",
      "|(31364,[0,31353,3...|      1.0|       0.0|\n",
      "|(31364,[0,31359,3...|      1.0|       0.0|\n",
      "|(31364,[1,31313,3...|      1.0|       0.0|\n",
      "+--------------------+---------+----------+\n",
      "only showing top 10 rows\n",
      "\n"
     ]
    }
   ],
   "source": [
    "predict_test.select(\"features\", \"sex_label\", \"prediction\").show(10)"
   ]
  },
  {
   "cell_type": "code",
   "execution_count": 43,
   "metadata": {},
   "outputs": [
    {
     "name": "stdout",
     "output_type": "stream",
     "text": [
      "+--------------------+---------+--------------------+----------+--------------------+\n",
      "|            features|sex_label|       rawPrediction|prediction|         probability|\n",
      "+--------------------+---------+--------------------+----------+--------------------+\n",
      "|(31364,[0,31319,3...|      0.0|[0.23189024886690...|       0.0|[0.55771417127057...|\n",
      "|(31364,[0,31327,3...|      1.0|[0.23189024886690...|       0.0|[0.55771417127057...|\n",
      "|(31364,[0,31336,3...|      1.0|[0.23189024886690...|       0.0|[0.55771417127057...|\n",
      "|(31364,[0,31339,3...|      1.0|[0.23189024886690...|       0.0|[0.55771417127057...|\n",
      "|(31364,[0,31339,3...|      1.0|[0.23189024886690...|       0.0|[0.55771417127057...|\n",
      "+--------------------+---------+--------------------+----------+--------------------+\n",
      "only showing top 5 rows\n",
      "\n"
     ]
    }
   ],
   "source": [
    "predict_test.select(\"features\", \"sex_label\", \"rawPrediction\", \"prediction\", \"probability\").show(5)"
   ]
  },
  {
   "cell_type": "code",
   "execution_count": 44,
   "metadata": {},
   "outputs": [],
   "source": [
    "from pyspark.ml.evaluation import BinaryClassificationEvaluator"
   ]
  },
  {
   "cell_type": "code",
   "execution_count": 45,
   "metadata": {},
   "outputs": [],
   "source": [
    "evaluator = BinaryClassificationEvaluator(rawPredictionCol = \"rawPrediction\", labelCol = \"sex_label\")\n"
   ]
  },
  {
   "cell_type": "code",
   "execution_count": 46,
   "metadata": {},
   "outputs": [
    {
     "data": {
      "text/plain": [
       "'areaUnderROC'"
      ]
     },
     "execution_count": 46,
     "metadata": {},
     "output_type": "execute_result"
    }
   ],
   "source": [
    "#check metric used in evaluator\n",
    "evaluator.getMetricName()"
   ]
  },
  {
   "cell_type": "code",
   "execution_count": 47,
   "metadata": {},
   "outputs": [
    {
     "name": "stdout",
     "output_type": "stream",
     "text": [
      "The area under ROC for train set is 0.5\n"
     ]
    }
   ],
   "source": [
    "print(\"The area under ROC for train set is {}\". format(evaluator.evaluate(predict_train)))"
   ]
  },
  {
   "cell_type": "code",
   "execution_count": 48,
   "metadata": {},
   "outputs": [
    {
     "name": "stdout",
     "output_type": "stream",
     "text": [
      "The area under ROC for test set is 0.5\n"
     ]
    }
   ],
   "source": [
    "print(\"The area under ROC for test set is {}\". format(evaluator.evaluate(predict_test)))"
   ]
  },
  {
   "cell_type": "markdown",
   "metadata": {},
   "source": [
    "Are under ROC of 0.5, conveys that the model has poor class separation capacity. The model must be further improved by hypertuning the parameters of the model."
   ]
  },
  {
   "cell_type": "code",
   "execution_count": null,
   "metadata": {},
   "outputs": [],
   "source": []
  }
 ],
 "metadata": {
  "kernelspec": {
   "display_name": "Python 3",
   "language": "python",
   "name": "python3"
  },
  "language_info": {
   "codemirror_mode": {
    "name": "ipython",
    "version": 3
   },
   "file_extension": ".py",
   "mimetype": "text/x-python",
   "name": "python",
   "nbconvert_exporter": "python",
   "pygments_lexer": "ipython3",
   "version": "3.7.3"
  }
 },
 "nbformat": 4,
 "nbformat_minor": 2
}
