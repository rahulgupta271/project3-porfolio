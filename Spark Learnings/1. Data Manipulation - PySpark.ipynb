{
 "cells": [
  {
   "cell_type": "markdown",
   "metadata": {},
   "source": [
    "# Flight Data"
   ]
  },
  {
   "cell_type": "markdown",
   "metadata": {},
   "source": [
    "In the first part of this exercise, you will load flight data from the domestic-flights/flights.parquet file and airport codes from the airport-codes/airport-codes.csv file. As a reminder, you can load a parquet and CSV files as follows. (Click on the image below to download the code.)\n",
    "\n",
    "As a first step, load both files into Spark and print the schemas. The flight data uses the International Air Transport Association (IATA) codes of the origin and destination airports. The IATA code is a three-letter code identifying the airport. For instance, Omaha’s Eppley Airfield is OMA, Baltimore-Washington International Airport is BWI, Los Angeles International Airport is LAX, and New York’s John F. Kennedy International Airport is JFK. The airport codes file contains information for each of the airports."
   ]
  },
  {
   "cell_type": "markdown",
   "metadata": {},
   "source": [
    "Import Requred modules"
   ]
  },
  {
   "cell_type": "code",
   "execution_count": 1,
   "metadata": {},
   "outputs": [],
   "source": [
    "from pyspark.sql import SparkSession\n",
    "import pandas\n",
    "\n",
    "spark = SparkSession.builder.appName('week4').getOrCreate()"
   ]
  },
  {
   "cell_type": "code",
   "execution_count": 2,
   "metadata": {},
   "outputs": [],
   "source": [
    "# Create file paths including filenames\n",
    "parquet_file_path = r'/home/ram/share/650/dsc650-master/data/domestic-flights/flights.parquet'\n",
    "\n",
    "airportdata_filepath = r'/home/ram/share/650/dsc650-master/data/airport-codes/airport-codes.csv'\n"
   ]
  },
  {
   "cell_type": "code",
   "execution_count": 3,
   "metadata": {},
   "outputs": [],
   "source": [
    "df_flight = spark.read.parquet(parquet_file_path)"
   ]
  },
  {
   "cell_type": "code",
   "execution_count": 4,
   "metadata": {},
   "outputs": [
    {
     "data": {
      "text/plain": [
       "[Row(origin_airport_code='MHK', destination_airport_code='AMW', origin_city='Manhattan, KS', destination_city='Ames, IA', passengers=21, seats=30, flights=1, distance=254.0, origin_population=122049, destination_population=86219, flight_year=2008, flight_month=10, __index_level_0__=0),\n",
       " Row(origin_airport_code='EUG', destination_airport_code='RDM', origin_city='Eugene, OR', destination_city='Bend, OR', passengers=41, seats=396, flights=22, distance=103.0, origin_population=284093, destination_population=76034, flight_year=1990, flight_month=11, __index_level_0__=1),\n",
       " Row(origin_airport_code='EUG', destination_airport_code='RDM', origin_city='Eugene, OR', destination_city='Bend, OR', passengers=88, seats=342, flights=19, distance=103.0, origin_population=284093, destination_population=76034, flight_year=1990, flight_month=12, __index_level_0__=2),\n",
       " Row(origin_airport_code='EUG', destination_airport_code='RDM', origin_city='Eugene, OR', destination_city='Bend, OR', passengers=11, seats=72, flights=4, distance=103.0, origin_population=284093, destination_population=76034, flight_year=1990, flight_month=10, __index_level_0__=3),\n",
       " Row(origin_airport_code='MFR', destination_airport_code='RDM', origin_city='Medford, OR', destination_city='Bend, OR', passengers=0, seats=18, flights=1, distance=156.0, origin_population=147300, destination_population=76034, flight_year=1990, flight_month=2, __index_level_0__=4)]"
      ]
     },
     "execution_count": 4,
     "metadata": {},
     "output_type": "execute_result"
    }
   ],
   "source": [
    "df_flight.head(5)"
   ]
  },
  {
   "cell_type": "code",
   "execution_count": 5,
   "metadata": {},
   "outputs": [
    {
     "data": {
      "text/plain": [
       "[Row(ident='00A', type='heliport', name='Total Rf Heliport', elevation_ft=11.0, continent=None, iso_country='US', iso_region='US-PA', municipality='Bensalem', gps_code='00A', iata_code=None, local_code='00A', coordinates='-74.93360137939453, 40.07080078125'),\n",
       " Row(ident='00AA', type='small_airport', name='Aero B Ranch Airport', elevation_ft=3435.0, continent=None, iso_country='US', iso_region='US-KS', municipality='Leoti', gps_code='00AA', iata_code=None, local_code='00AA', coordinates='-101.473911, 38.704022'),\n",
       " Row(ident='00AK', type='small_airport', name='Lowell Field', elevation_ft=450.0, continent=None, iso_country='US', iso_region='US-AK', municipality='Anchor Point', gps_code='00AK', iata_code=None, local_code='00AK', coordinates='-151.695999146, 59.94919968'),\n",
       " Row(ident='00AL', type='small_airport', name='Epps Airpark', elevation_ft=820.0, continent=None, iso_country='US', iso_region='US-AL', municipality='Harvest', gps_code='00AL', iata_code=None, local_code='00AL', coordinates='-86.77030181884766, 34.86479949951172'),\n",
       " Row(ident='00AR', type='closed', name='Newport Hospital & Clinic Heliport', elevation_ft=237.0, continent=None, iso_country='US', iso_region='US-AR', municipality='Newport', gps_code=None, iata_code=None, local_code=None, coordinates='-91.254898, 35.6087')]"
      ]
     },
     "execution_count": 5,
     "metadata": {},
     "output_type": "execute_result"
    }
   ],
   "source": [
    "df_airpot_codes = spark.read.load(airportdata_filepath, format=\"csv\", sep=\",\", inferschema=True, header=True)\n",
    "\n",
    "df_airpot_codes.head(5)"
   ]
  },
  {
   "cell_type": "code",
   "execution_count": 6,
   "metadata": {},
   "outputs": [
    {
     "name": "stdout",
     "output_type": "stream",
     "text": [
      "root\n",
      " |-- origin_airport_code: string (nullable = true)\n",
      " |-- destination_airport_code: string (nullable = true)\n",
      " |-- origin_city: string (nullable = true)\n",
      " |-- destination_city: string (nullable = true)\n",
      " |-- passengers: long (nullable = true)\n",
      " |-- seats: long (nullable = true)\n",
      " |-- flights: long (nullable = true)\n",
      " |-- distance: double (nullable = true)\n",
      " |-- origin_population: long (nullable = true)\n",
      " |-- destination_population: long (nullable = true)\n",
      " |-- flight_year: long (nullable = true)\n",
      " |-- flight_month: long (nullable = true)\n",
      " |-- __index_level_0__: long (nullable = true)\n",
      "\n"
     ]
    }
   ],
   "source": [
    "#printing schemas\n",
    "df_flight.printSchema()"
   ]
  },
  {
   "cell_type": "code",
   "execution_count": 7,
   "metadata": {},
   "outputs": [
    {
     "name": "stdout",
     "output_type": "stream",
     "text": [
      "root\n",
      " |-- ident: string (nullable = true)\n",
      " |-- type: string (nullable = true)\n",
      " |-- name: string (nullable = true)\n",
      " |-- elevation_ft: double (nullable = true)\n",
      " |-- continent: string (nullable = true)\n",
      " |-- iso_country: string (nullable = true)\n",
      " |-- iso_region: string (nullable = true)\n",
      " |-- municipality: string (nullable = true)\n",
      " |-- gps_code: string (nullable = true)\n",
      " |-- iata_code: string (nullable = true)\n",
      " |-- local_code: string (nullable = true)\n",
      " |-- coordinates: string (nullable = true)\n",
      "\n"
     ]
    }
   ],
   "source": [
    "df_airpot_codes.printSchema()"
   ]
  },
  {
   "cell_type": "markdown",
   "metadata": {},
   "source": [
    "# Join Data"
   ]
  },
  {
   "cell_type": "markdown",
   "metadata": {},
   "source": [
    "Join the flight data to airport codes data by matching the IATA code of the originating flight to the IATA code in the airport codes file. Note that the airport codes file may not contain IATA codes for all of the origin and destination flights in the flight data. We still want information on those flights even if we cannot match it to a value in the airport codes file. This means you will want to use a left join instead of the default inner join."
   ]
  },
  {
   "cell_type": "code",
   "execution_count": 8,
   "metadata": {},
   "outputs": [],
   "source": [
    "joinexpression =  df_flight['origin_airport_code'] == df_airpot_codes['iata_code']\n",
    "joinType = \"left_outer\""
   ]
  },
  {
   "cell_type": "code",
   "execution_count": 136,
   "metadata": {},
   "outputs": [
    {
     "name": "stdout",
     "output_type": "stream",
     "text": [
      "+-------------------+------------------------+-------------+----------------+----------+-----+-------+--------+-----------------+----------------------+-----------+------------+-----------------+-----+--------------+--------------------+------------+---------+-----------+----------+------------+--------+---------+----------+--------------------+\n",
      "|origin_airport_code|destination_airport_code|  origin_city|destination_city|passengers|seats|flights|distance|origin_population|destination_population|flight_year|flight_month|__index_level_0__|ident|          type|                name|elevation_ft|continent|iso_country|iso_region|municipality|gps_code|iata_code|local_code|         coordinates|\n",
      "+-------------------+------------------------+-------------+----------------+----------+-----+-------+--------+-----------------+----------------------+-----------+------------+-----------------+-----+--------------+--------------------+------------+---------+-----------+----------+------------+--------+---------+----------+--------------------+\n",
      "|                MHK|                     AMW|Manhattan, KS|        Ames, IA|        21|   30|      1|   254.0|           122049|                 86219|       2008|          10|                0| KMHK|medium_airport|Manhattan Regiona...|      1057.0|     null|         US|     US-KS|   Manhattan|    KMHK|      MHK|       MHK|-96.6707992553711...|\n",
      "|                EUG|                     RDM|   Eugene, OR|        Bend, OR|        41|  396|     22|   103.0|           284093|                 76034|       1990|          11|                1| KEUG|medium_airport|  Mahlon Sweet Field|       374.0|     null|         US|     US-OR|      Eugene|    KEUG|      EUG|       EUG|-123.211997985839...|\n",
      "|                EUG|                     RDM|   Eugene, OR|        Bend, OR|        88|  342|     19|   103.0|           284093|                 76034|       1990|          12|                2| KEUG|medium_airport|  Mahlon Sweet Field|       374.0|     null|         US|     US-OR|      Eugene|    KEUG|      EUG|       EUG|-123.211997985839...|\n",
      "+-------------------+------------------------+-------------+----------------+----------+-----+-------+--------+-----------------+----------------------+-----------+------------+-----------------+-----+--------------+--------------------+------------+---------+-----------+----------+------------+--------+---------+----------+--------------------+\n",
      "only showing top 3 rows\n",
      "\n"
     ]
    }
   ],
   "source": [
    "df_flight.join(df_airpot_codes,joinexpression,joinType).show(3)"
   ]
  },
  {
   "cell_type": "code",
   "execution_count": 10,
   "metadata": {},
   "outputs": [],
   "source": [
    "df_merged = df_flight.join(df_airpot_codes,joinexpression,joinType)"
   ]
  },
  {
   "cell_type": "code",
   "execution_count": 135,
   "metadata": {},
   "outputs": [
    {
     "data": {
      "text/plain": [
       "[Row(origin_airport_code='MHK', destination_airport_code='AMW', origin_city='Manhattan, KS', destination_city='Ames, IA', passengers=21, seats=30, flights=1, distance=254.0, origin_population=122049, destination_population=86219, flight_year=2008, flight_month=10, __index_level_0__=0, ident='KMHK', type='medium_airport', name='Manhattan Regional Airport', elevation_ft=1057.0, continent=None, iso_country='US', iso_region='US-KS', municipality='Manhattan', gps_code='KMHK', iata_code='MHK', local_code='MHK', coordinates='-96.6707992553711, 39.14099884033203'),\n",
       " Row(origin_airport_code='EUG', destination_airport_code='RDM', origin_city='Eugene, OR', destination_city='Bend, OR', passengers=41, seats=396, flights=22, distance=103.0, origin_population=284093, destination_population=76034, flight_year=1990, flight_month=11, __index_level_0__=1, ident='KEUG', type='medium_airport', name='Mahlon Sweet Field', elevation_ft=374.0, continent=None, iso_country='US', iso_region='US-OR', municipality='Eugene', gps_code='KEUG', iata_code='EUG', local_code='EUG', coordinates='-123.21199798583984, 44.12459945678711')]"
      ]
     },
     "execution_count": 135,
     "metadata": {},
     "output_type": "execute_result"
    }
   ],
   "source": [
    "df_merged.head(2)"
   ]
  },
  {
   "cell_type": "code",
   "execution_count": 12,
   "metadata": {},
   "outputs": [
    {
     "name": "stdout",
     "output_type": "stream",
     "text": [
      "root\n",
      " |-- origin_airport_code: string (nullable = true)\n",
      " |-- destination_airport_code: string (nullable = true)\n",
      " |-- origin_city: string (nullable = true)\n",
      " |-- destination_city: string (nullable = true)\n",
      " |-- passengers: long (nullable = true)\n",
      " |-- seats: long (nullable = true)\n",
      " |-- flights: long (nullable = true)\n",
      " |-- distance: double (nullable = true)\n",
      " |-- origin_population: long (nullable = true)\n",
      " |-- destination_population: long (nullable = true)\n",
      " |-- flight_year: long (nullable = true)\n",
      " |-- flight_month: long (nullable = true)\n",
      " |-- __index_level_0__: long (nullable = true)\n",
      " |-- ident: string (nullable = true)\n",
      " |-- type: string (nullable = true)\n",
      " |-- name: string (nullable = true)\n",
      " |-- elevation_ft: double (nullable = true)\n",
      " |-- continent: string (nullable = true)\n",
      " |-- iso_country: string (nullable = true)\n",
      " |-- iso_region: string (nullable = true)\n",
      " |-- municipality: string (nullable = true)\n",
      " |-- gps_code: string (nullable = true)\n",
      " |-- iata_code: string (nullable = true)\n",
      " |-- local_code: string (nullable = true)\n",
      " |-- coordinates: string (nullable = true)\n",
      "\n"
     ]
    }
   ],
   "source": [
    "df_merged.printSchema()"
   ]
  },
  {
   "cell_type": "markdown",
   "metadata": {},
   "source": [
    "# Rename and Remove columns"
   ]
  },
  {
   "cell_type": "markdown",
   "metadata": {},
   "source": [
    "Next, we want to rename some of the joined columns and remove unneeded columns. Remove the following columns from the joined dataframe.\n",
    "\n",
    "    __index_level_0__\n",
    "    ident\n",
    "    local_code\n",
    "    continent\n",
    "    iso_country\n",
    "    iata_code\n",
    "\n",
    "Rename the following columns.\n",
    "\n",
    "    type: origin_airport_type\n",
    "    name: origin_airport_name\n",
    "    elevation_ft: origin_airport_elevation_ft\n",
    "    iso_region: origin_airport_region\n",
    "    municipality: origin_airport_municipality\n",
    "    gps_code: origin_airport_gps_code\n",
    "    coordinates: origin_airport_coordinates\n"
   ]
  },
  {
   "cell_type": "code",
   "execution_count": 21,
   "metadata": {},
   "outputs": [],
   "source": [
    "df_merged_modified = df_merged.drop(\"__index_level_0__\",\"ident\",\"local_code\",\"continent\",\"iso_country\",\"iata_code\")"
   ]
  },
  {
   "cell_type": "code",
   "execution_count": 22,
   "metadata": {},
   "outputs": [
    {
     "name": "stdout",
     "output_type": "stream",
     "text": [
      "root\n",
      " |-- origin_airport_code: string (nullable = true)\n",
      " |-- destination_airport_code: string (nullable = true)\n",
      " |-- origin_city: string (nullable = true)\n",
      " |-- destination_city: string (nullable = true)\n",
      " |-- passengers: long (nullable = true)\n",
      " |-- seats: long (nullable = true)\n",
      " |-- flights: long (nullable = true)\n",
      " |-- distance: double (nullable = true)\n",
      " |-- origin_population: long (nullable = true)\n",
      " |-- destination_population: long (nullable = true)\n",
      " |-- flight_year: long (nullable = true)\n",
      " |-- flight_month: long (nullable = true)\n",
      " |-- __index_level_0__: long (nullable = true)\n",
      " |-- ident: string (nullable = true)\n",
      " |-- type: string (nullable = true)\n",
      " |-- name: string (nullable = true)\n",
      " |-- elevation_ft: double (nullable = true)\n",
      " |-- continent: string (nullable = true)\n",
      " |-- iso_country: string (nullable = true)\n",
      " |-- iso_region: string (nullable = true)\n",
      " |-- municipality: string (nullable = true)\n",
      " |-- gps_code: string (nullable = true)\n",
      " |-- iata_code: string (nullable = true)\n",
      " |-- local_code: string (nullable = true)\n",
      " |-- coordinates: string (nullable = true)\n",
      "\n"
     ]
    }
   ],
   "source": [
    "df_merged.printSchema()"
   ]
  },
  {
   "cell_type": "code",
   "execution_count": 24,
   "metadata": {},
   "outputs": [
    {
     "name": "stdout",
     "output_type": "stream",
     "text": [
      "root\n",
      " |-- origin_airport_code: string (nullable = true)\n",
      " |-- destination_airport_code: string (nullable = true)\n",
      " |-- origin_city: string (nullable = true)\n",
      " |-- destination_city: string (nullable = true)\n",
      " |-- passengers: long (nullable = true)\n",
      " |-- seats: long (nullable = true)\n",
      " |-- flights: long (nullable = true)\n",
      " |-- distance: double (nullable = true)\n",
      " |-- origin_population: long (nullable = true)\n",
      " |-- destination_population: long (nullable = true)\n",
      " |-- flight_year: long (nullable = true)\n",
      " |-- flight_month: long (nullable = true)\n",
      " |-- type: string (nullable = true)\n",
      " |-- name: string (nullable = true)\n",
      " |-- elevation_ft: double (nullable = true)\n",
      " |-- iso_region: string (nullable = true)\n",
      " |-- municipality: string (nullable = true)\n",
      " |-- gps_code: string (nullable = true)\n",
      " |-- coordinates: string (nullable = true)\n",
      "\n"
     ]
    }
   ],
   "source": [
    "df_merged_modified.printSchema()"
   ]
  },
  {
   "cell_type": "code",
   "execution_count": 28,
   "metadata": {},
   "outputs": [],
   "source": [
    "#df_merged_modified2 = df_merged_modified.withColumnRenamed(\"type\",\"origin_airport_type\").withColumnRenamed(\"name\",\"origin_airport_name\").withColumnRenamed(\"elevation_ft\",\"origin_airport_elevation_ft\").withColumnRenamed(\"iso_region\",\"origin_airport_region\").withColumnRenamed(\"municipality\",\"origin_airport_municipality\").withColumnRenamed(\"gps_code\",\"origin_airport_gps_code\").withColumnRenamed(\"coordinates\",\"origin_airport_coordinates\")"
   ]
  },
  {
   "cell_type": "code",
   "execution_count": 32,
   "metadata": {},
   "outputs": [],
   "source": [
    "df_merged_modified2 = df_merged_modified.withColumnRenamed(\"type\",\"origin_airport_type\")\\\n",
    "                                        .withColumnRenamed(\"name\",\"origin_airport_name\")\\\n",
    "                                        .withColumnRenamed(\"elevation_ft\",\"origin_airport_elevation_ft\")\\\n",
    "                                        .withColumnRenamed(\"iso_region\",\"origin_airport_region\")\\\n",
    "                                        .withColumnRenamed(\"municipality\",\"origin_airport_municipality\")\\\n",
    "                                        .withColumnRenamed(\"gps_code\",\"origin_airport_gps_code\")\\\n",
    "                                        .withColumnRenamed(\"coordinates\",\"origin_airport_coordinates\")"
   ]
  },
  {
   "cell_type": "code",
   "execution_count": 33,
   "metadata": {},
   "outputs": [
    {
     "name": "stdout",
     "output_type": "stream",
     "text": [
      "root\n",
      " |-- origin_airport_code: string (nullable = true)\n",
      " |-- destination_airport_code: string (nullable = true)\n",
      " |-- origin_city: string (nullable = true)\n",
      " |-- destination_city: string (nullable = true)\n",
      " |-- passengers: long (nullable = true)\n",
      " |-- seats: long (nullable = true)\n",
      " |-- flights: long (nullable = true)\n",
      " |-- distance: double (nullable = true)\n",
      " |-- origin_population: long (nullable = true)\n",
      " |-- destination_population: long (nullable = true)\n",
      " |-- flight_year: long (nullable = true)\n",
      " |-- flight_month: long (nullable = true)\n",
      " |-- origin_airport_type: string (nullable = true)\n",
      " |-- origin_airport_name: string (nullable = true)\n",
      " |-- origin_airport_elevation_ft: double (nullable = true)\n",
      " |-- origin_airport_region: string (nullable = true)\n",
      " |-- origin_airport_municipality: string (nullable = true)\n",
      " |-- origin_airport_gps_code: string (nullable = true)\n",
      " |-- origin_airport_coordinates: string (nullable = true)\n",
      "\n"
     ]
    }
   ],
   "source": [
    "df_merged_modified2.printSchema()"
   ]
  },
  {
   "cell_type": "markdown",
   "metadata": {},
   "source": [
    "# Join to Destination Airport"
   ]
  },
  {
   "cell_type": "markdown",
   "metadata": {},
   "source": [
    "Repeat parts a and b joining the airport codes file to the destination airport instead of the origin airport. Drop the same columns and rename the same columns using the prefix destination_airport_ instead of origin_airport_. Print the schema of the resultant dataframe. The final schema and dataframe should contain the added information (name, region, coordinate, …) for the destination and origin airports."
   ]
  },
  {
   "cell_type": "code",
   "execution_count": 106,
   "metadata": {},
   "outputs": [],
   "source": [
    "joinexpression2 =  df_merged_modified2['destination_airport_code'] == df_airpot_codes['iata_code']\n",
    "joinType2 = \"left_outer\"\n"
   ]
  },
  {
   "cell_type": "code",
   "execution_count": 108,
   "metadata": {},
   "outputs": [
    {
     "name": "stdout",
     "output_type": "stream",
     "text": [
      "+-------------------+------------------------+-------------+----------------+----------+-----+-------+--------+-----------------+----------------------+-----------+------------+-------------------+--------------------+---------------------------+---------------------+---------------------------+-----------------------+--------------------------+-----+--------------+--------------------+------------+---------+-----------+----------+------------+--------+---------+----------+--------------------+\n",
      "|origin_airport_code|destination_airport_code|  origin_city|destination_city|passengers|seats|flights|distance|origin_population|destination_population|flight_year|flight_month|origin_airport_type| origin_airport_name|origin_airport_elevation_ft|origin_airport_region|origin_airport_municipality|origin_airport_gps_code|origin_airport_coordinates|ident|          type|                name|elevation_ft|continent|iso_country|iso_region|municipality|gps_code|iata_code|local_code|         coordinates|\n",
      "+-------------------+------------------------+-------------+----------------+----------+-----+-------+--------+-----------------+----------------------+-----------+------------+-------------------+--------------------+---------------------------+---------------------+---------------------------+-----------------------+--------------------------+-----+--------------+--------------------+------------+---------+-----------+----------+------------+--------+---------+----------+--------------------+\n",
      "|                MHK|                     AMW|Manhattan, KS|        Ames, IA|        21|   30|      1|   254.0|           122049|                 86219|       2008|          10|     medium_airport|Manhattan Regiona...|                     1057.0|                US-KS|                  Manhattan|                   KMHK|      -96.6707992553711...| KAMW| small_airport|Ames Municipal Ai...|       956.0|     null|         US|     US-IA|        Ames|    KAMW|      AMW|       AMW|-93.621803, 41.99...|\n",
      "|                EUG|                     RDM|   Eugene, OR|        Bend, OR|        41|  396|     22|   103.0|           284093|                 76034|       1990|          11|     medium_airport|  Mahlon Sweet Field|                      374.0|                US-OR|                     Eugene|                   KEUG|      -123.211997985839...| KRDM|medium_airport|       Roberts Field|      3080.0|     null|         US|     US-OR|     Redmond|    KRDM|      RDM|       RDM|-121.1500015, 44....|\n",
      "+-------------------+------------------------+-------------+----------------+----------+-----+-------+--------+-----------------+----------------------+-----------+------------+-------------------+--------------------+---------------------------+---------------------+---------------------------+-----------------------+--------------------------+-----+--------------+--------------------+------------+---------+-----------+----------+------------+--------+---------+----------+--------------------+\n",
      "only showing top 2 rows\n",
      "\n"
     ]
    }
   ],
   "source": [
    "df_merged_modified2.join(df_airpot_codes,joinexpression2,joinType2).show(2)\n"
   ]
  },
  {
   "cell_type": "code",
   "execution_count": 109,
   "metadata": {},
   "outputs": [],
   "source": [
    "df_merged_modified_dest= df_merged_modified2.join(df_airpot_codes,joinexpression2,joinType2)"
   ]
  },
  {
   "cell_type": "code",
   "execution_count": 110,
   "metadata": {},
   "outputs": [
    {
     "name": "stdout",
     "output_type": "stream",
     "text": [
      "root\n",
      " |-- origin_airport_code: string (nullable = true)\n",
      " |-- destination_airport_code: string (nullable = true)\n",
      " |-- origin_city: string (nullable = true)\n",
      " |-- destination_city: string (nullable = true)\n",
      " |-- passengers: long (nullable = true)\n",
      " |-- seats: long (nullable = true)\n",
      " |-- flights: long (nullable = true)\n",
      " |-- distance: double (nullable = true)\n",
      " |-- origin_population: long (nullable = true)\n",
      " |-- destination_population: long (nullable = true)\n",
      " |-- flight_year: long (nullable = true)\n",
      " |-- flight_month: long (nullable = true)\n",
      " |-- origin_airport_type: string (nullable = true)\n",
      " |-- origin_airport_name: string (nullable = true)\n",
      " |-- origin_airport_elevation_ft: double (nullable = true)\n",
      " |-- origin_airport_region: string (nullable = true)\n",
      " |-- origin_airport_municipality: string (nullable = true)\n",
      " |-- origin_airport_gps_code: string (nullable = true)\n",
      " |-- origin_airport_coordinates: string (nullable = true)\n",
      " |-- ident: string (nullable = true)\n",
      " |-- type: string (nullable = true)\n",
      " |-- name: string (nullable = true)\n",
      " |-- elevation_ft: double (nullable = true)\n",
      " |-- continent: string (nullable = true)\n",
      " |-- iso_country: string (nullable = true)\n",
      " |-- iso_region: string (nullable = true)\n",
      " |-- municipality: string (nullable = true)\n",
      " |-- gps_code: string (nullable = true)\n",
      " |-- iata_code: string (nullable = true)\n",
      " |-- local_code: string (nullable = true)\n",
      " |-- coordinates: string (nullable = true)\n",
      "\n"
     ]
    }
   ],
   "source": [
    "df_merged_modified_dest.printSchema()"
   ]
  },
  {
   "cell_type": "code",
   "execution_count": 111,
   "metadata": {},
   "outputs": [],
   "source": [
    "\n",
    "df_merged_modified_dest2 = df_merged_modified_dest.drop(\"__index_level_0__\",\"ident\",\"local_code\",\"continent\",\"iso_country\")\n"
   ]
  },
  {
   "cell_type": "code",
   "execution_count": 112,
   "metadata": {},
   "outputs": [
    {
     "name": "stdout",
     "output_type": "stream",
     "text": [
      "root\n",
      " |-- origin_airport_code: string (nullable = true)\n",
      " |-- destination_airport_code: string (nullable = true)\n",
      " |-- origin_city: string (nullable = true)\n",
      " |-- destination_city: string (nullable = true)\n",
      " |-- passengers: long (nullable = true)\n",
      " |-- seats: long (nullable = true)\n",
      " |-- flights: long (nullable = true)\n",
      " |-- distance: double (nullable = true)\n",
      " |-- origin_population: long (nullable = true)\n",
      " |-- destination_population: long (nullable = true)\n",
      " |-- flight_year: long (nullable = true)\n",
      " |-- flight_month: long (nullable = true)\n",
      " |-- origin_airport_type: string (nullable = true)\n",
      " |-- origin_airport_name: string (nullable = true)\n",
      " |-- origin_airport_elevation_ft: double (nullable = true)\n",
      " |-- origin_airport_region: string (nullable = true)\n",
      " |-- origin_airport_municipality: string (nullable = true)\n",
      " |-- origin_airport_gps_code: string (nullable = true)\n",
      " |-- origin_airport_coordinates: string (nullable = true)\n",
      " |-- type: string (nullable = true)\n",
      " |-- name: string (nullable = true)\n",
      " |-- elevation_ft: double (nullable = true)\n",
      " |-- iso_region: string (nullable = true)\n",
      " |-- municipality: string (nullable = true)\n",
      " |-- gps_code: string (nullable = true)\n",
      " |-- iata_code: string (nullable = true)\n",
      " |-- coordinates: string (nullable = true)\n",
      "\n"
     ]
    }
   ],
   "source": [
    "df_merged_modified_dest2.printSchema()"
   ]
  },
  {
   "cell_type": "code",
   "execution_count": 113,
   "metadata": {},
   "outputs": [],
   "source": [
    "df_merged_modified_dest_final = df_merged_modified_dest2.withColumnRenamed(\"type\",\"destination_airport_type\")\\\n",
    "                                        .withColumnRenamed(\"name\",\"destination_airport_name\")\\\n",
    "                                        .withColumnRenamed(\"elevation_ft\",\"destination_airport_elevation_ft\")\\\n",
    "                                        .withColumnRenamed(\"iso_region\",\"destination_airport_region\")\\\n",
    "                                        .withColumnRenamed(\"municipality\",\"destination_airport_municipality\")\\\n",
    "                                        .withColumnRenamed(\"gps_code\",\"destination_airport_gps_code\")\\\n",
    "                                        .withColumnRenamed(\"coordinates\",\"destination_airport_coordinates\")"
   ]
  },
  {
   "cell_type": "code",
   "execution_count": 114,
   "metadata": {},
   "outputs": [
    {
     "name": "stdout",
     "output_type": "stream",
     "text": [
      "root\n",
      " |-- origin_airport_code: string (nullable = true)\n",
      " |-- destination_airport_code: string (nullable = true)\n",
      " |-- origin_city: string (nullable = true)\n",
      " |-- destination_city: string (nullable = true)\n",
      " |-- passengers: long (nullable = true)\n",
      " |-- seats: long (nullable = true)\n",
      " |-- flights: long (nullable = true)\n",
      " |-- distance: double (nullable = true)\n",
      " |-- origin_population: long (nullable = true)\n",
      " |-- destination_population: long (nullable = true)\n",
      " |-- flight_year: long (nullable = true)\n",
      " |-- flight_month: long (nullable = true)\n",
      " |-- origin_airport_type: string (nullable = true)\n",
      " |-- origin_airport_name: string (nullable = true)\n",
      " |-- origin_airport_elevation_ft: double (nullable = true)\n",
      " |-- origin_airport_region: string (nullable = true)\n",
      " |-- origin_airport_municipality: string (nullable = true)\n",
      " |-- origin_airport_gps_code: string (nullable = true)\n",
      " |-- origin_airport_coordinates: string (nullable = true)\n",
      " |-- destination_airport_type: string (nullable = true)\n",
      " |-- destination_airport_name: string (nullable = true)\n",
      " |-- destination_airport_elevation_ft: double (nullable = true)\n",
      " |-- destination_airport_region: string (nullable = true)\n",
      " |-- destination_airport_municipality: string (nullable = true)\n",
      " |-- destination_airport_gps_code: string (nullable = true)\n",
      " |-- iata_code: string (nullable = true)\n",
      " |-- destination_airport_coordinates: string (nullable = true)\n",
      "\n"
     ]
    }
   ],
   "source": [
    "df_merged_modified_dest_final.printSchema()"
   ]
  },
  {
   "cell_type": "code",
   "execution_count": 115,
   "metadata": {},
   "outputs": [
    {
     "data": {
      "text/plain": [
       "[Row(origin_airport_code='MHK', destination_airport_code='AMW', origin_city='Manhattan, KS', destination_city='Ames, IA', passengers=21, seats=30, flights=1, distance=254.0, origin_population=122049, destination_population=86219, flight_year=2008, flight_month=10, origin_airport_type='medium_airport', origin_airport_name='Manhattan Regional Airport', origin_airport_elevation_ft=1057.0, origin_airport_region='US-KS', origin_airport_municipality='Manhattan', origin_airport_gps_code='KMHK', origin_airport_coordinates='-96.6707992553711, 39.14099884033203', destination_airport_type='small_airport', destination_airport_name='Ames Municipal Airport', destination_airport_elevation_ft=956.0, destination_airport_region='US-IA', destination_airport_municipality='Ames', destination_airport_gps_code='KAMW', iata_code='AMW', destination_airport_coordinates='-93.621803, 41.992001'),\n",
       " Row(origin_airport_code='EUG', destination_airport_code='RDM', origin_city='Eugene, OR', destination_city='Bend, OR', passengers=41, seats=396, flights=22, distance=103.0, origin_population=284093, destination_population=76034, flight_year=1990, flight_month=11, origin_airport_type='medium_airport', origin_airport_name='Mahlon Sweet Field', origin_airport_elevation_ft=374.0, origin_airport_region='US-OR', origin_airport_municipality='Eugene', origin_airport_gps_code='KEUG', origin_airport_coordinates='-123.21199798583984, 44.12459945678711', destination_airport_type='medium_airport', destination_airport_name='Roberts Field', destination_airport_elevation_ft=3080.0, destination_airport_region='US-OR', destination_airport_municipality='Redmond', destination_airport_gps_code='KRDM', iata_code='RDM', destination_airport_coordinates='-121.1500015, 44.2541008')]"
      ]
     },
     "execution_count": 115,
     "metadata": {},
     "output_type": "execute_result"
    }
   ],
   "source": [
    "df_merged_modified_dest_final.head(2)"
   ]
  },
  {
   "cell_type": "markdown",
   "metadata": {},
   "source": [
    "# Top Ten Airports"
   ]
  },
  {
   "cell_type": "markdown",
   "metadata": {},
   "source": [
    "Create a dataframe using only data from 2008. This dataframe will be a report of the top ten airports by the number of inbound passengers. This dataframe should contain the following fields:\n",
    "\n",
    "    Rank (1-10)\n",
    "    Name\n",
    "    IATA code\n",
    "    Total Inbound Passengers\n",
    "    Total Inbound Flights\n",
    "    Average Daily Passengers\n",
    "    Average Inbound Flights\n",
    "\n",
    "Show the results of this dataframe using the show method."
   ]
  },
  {
   "cell_type": "code",
   "execution_count": 116,
   "metadata": {},
   "outputs": [],
   "source": [
    "df_merged_modified_dest_final.createOrReplaceTempView(\"dfTable\")"
   ]
  },
  {
   "cell_type": "code",
   "execution_count": 117,
   "metadata": {},
   "outputs": [
    {
     "name": "stdout",
     "output_type": "stream",
     "text": [
      "+--------+\n",
      "|count(1)|\n",
      "+--------+\n",
      "| 3606803|\n",
      "+--------+\n",
      "\n"
     ]
    }
   ],
   "source": [
    "sqlcount = spark.sql(\"SELECT COUNT(*) FROM dfTable\")\n",
    "\n",
    "sqlcount.show()"
   ]
  },
  {
   "cell_type": "code",
   "execution_count": 120,
   "metadata": {},
   "outputs": [
    {
     "data": {
      "text/plain": [
       "[Row(origin_airport_code='MHK', destination_airport_code='AMW', origin_city='Manhattan, KS', destination_city='Ames, IA', passengers=21, seats=30, flights=1, distance=254.0, origin_population=122049, destination_population=86219, flight_year=2008, flight_month=10, origin_airport_type='medium_airport', origin_airport_name='Manhattan Regional Airport', origin_airport_elevation_ft=1057.0, origin_airport_region='US-KS', origin_airport_municipality='Manhattan', origin_airport_gps_code='KMHK', origin_airport_coordinates='-96.6707992553711, 39.14099884033203', destination_airport_type='small_airport', destination_airport_name='Ames Municipal Airport', destination_airport_elevation_ft=956.0, destination_airport_region='US-IA', destination_airport_municipality='Ames', destination_airport_gps_code='KAMW', iata_code='AMW', destination_airport_coordinates='-93.621803, 41.992001'),\n",
       " Row(origin_airport_code='SEA', destination_airport_code='RDM', origin_city='Seattle, WA', destination_city='Bend, OR', passengers=126, seats=148, flights=4, distance=228.0, origin_population=6713274, destination_population=157730, flight_year=2008, flight_month=11, origin_airport_type='large_airport', origin_airport_name='Seattle Tacoma International Airport', origin_airport_elevation_ft=433.0, origin_airport_region='US-WA', origin_airport_municipality='Seattle', origin_airport_gps_code='KSEA', origin_airport_coordinates='-122.308998, 47.449001', destination_airport_type='medium_airport', destination_airport_name='Roberts Field', destination_airport_elevation_ft=3080.0, destination_airport_region='US-OR', destination_airport_municipality='Redmond', destination_airport_gps_code='KRDM', iata_code='RDM', destination_airport_coordinates='-121.1500015, 44.2541008')]"
      ]
     },
     "execution_count": 120,
     "metadata": {},
     "output_type": "execute_result"
    }
   ],
   "source": [
    "# dataframe with data from 2008\n",
    "df_2008 = spark.sql(\"SELECT * FROM dfTable where flight_year = 2008\")\n",
    "df_2008.head(2)"
   ]
  },
  {
   "cell_type": "code",
   "execution_count": 121,
   "metadata": {},
   "outputs": [
    {
     "name": "stdout",
     "output_type": "stream",
     "text": [
      "root\n",
      " |-- origin_airport_code: string (nullable = true)\n",
      " |-- destination_airport_code: string (nullable = true)\n",
      " |-- origin_city: string (nullable = true)\n",
      " |-- destination_city: string (nullable = true)\n",
      " |-- passengers: long (nullable = true)\n",
      " |-- seats: long (nullable = true)\n",
      " |-- flights: long (nullable = true)\n",
      " |-- distance: double (nullable = true)\n",
      " |-- origin_population: long (nullable = true)\n",
      " |-- destination_population: long (nullable = true)\n",
      " |-- flight_year: long (nullable = true)\n",
      " |-- flight_month: long (nullable = true)\n",
      " |-- origin_airport_type: string (nullable = true)\n",
      " |-- origin_airport_name: string (nullable = true)\n",
      " |-- origin_airport_elevation_ft: double (nullable = true)\n",
      " |-- origin_airport_region: string (nullable = true)\n",
      " |-- origin_airport_municipality: string (nullable = true)\n",
      " |-- origin_airport_gps_code: string (nullable = true)\n",
      " |-- origin_airport_coordinates: string (nullable = true)\n",
      " |-- destination_airport_type: string (nullable = true)\n",
      " |-- destination_airport_name: string (nullable = true)\n",
      " |-- destination_airport_elevation_ft: double (nullable = true)\n",
      " |-- destination_airport_region: string (nullable = true)\n",
      " |-- destination_airport_municipality: string (nullable = true)\n",
      " |-- destination_airport_gps_code: string (nullable = true)\n",
      " |-- iata_code: string (nullable = true)\n",
      " |-- destination_airport_coordinates: string (nullable = true)\n",
      "\n"
     ]
    }
   ],
   "source": [
    "df_2008.printSchema()"
   ]
  },
  {
   "cell_type": "code",
   "execution_count": 122,
   "metadata": {},
   "outputs": [
    {
     "data": {
      "text/plain": [
       "[Row(origin_airport_code='MHK', destination_airport_code='AMW', origin_city='Manhattan, KS', destination_city='Ames, IA', passengers=21, seats=30, flights=1, distance=254.0, origin_population=122049, destination_population=86219, flight_year=2008, flight_month=10, origin_airport_type='medium_airport', origin_airport_name='Manhattan Regional Airport', origin_airport_elevation_ft=1057.0, origin_airport_region='US-KS', origin_airport_municipality='Manhattan', origin_airport_gps_code='KMHK', origin_airport_coordinates='-96.6707992553711, 39.14099884033203', destination_airport_type='small_airport', destination_airport_name='Ames Municipal Airport', destination_airport_elevation_ft=956.0, destination_airport_region='US-IA', destination_airport_municipality='Ames', destination_airport_gps_code='KAMW', iata_code='AMW', destination_airport_coordinates='-93.621803, 41.992001'),\n",
       " Row(origin_airport_code='SEA', destination_airport_code='RDM', origin_city='Seattle, WA', destination_city='Bend, OR', passengers=126, seats=148, flights=4, distance=228.0, origin_population=6713274, destination_population=157730, flight_year=2008, flight_month=11, origin_airport_type='large_airport', origin_airport_name='Seattle Tacoma International Airport', origin_airport_elevation_ft=433.0, origin_airport_region='US-WA', origin_airport_municipality='Seattle', origin_airport_gps_code='KSEA', origin_airport_coordinates='-122.308998, 47.449001', destination_airport_type='medium_airport', destination_airport_name='Roberts Field', destination_airport_elevation_ft=3080.0, destination_airport_region='US-OR', destination_airport_municipality='Redmond', destination_airport_gps_code='KRDM', iata_code='RDM', destination_airport_coordinates='-121.1500015, 44.2541008')]"
      ]
     },
     "metadata": {},
     "output_type": "display_data"
    }
   ],
   "source": [
    "display(df_2008.head(2))"
   ]
  },
  {
   "cell_type": "code",
   "execution_count": 123,
   "metadata": {},
   "outputs": [],
   "source": [
    "from pyspark.sql.functions import *\n",
    "from pyspark.sql.window import Window"
   ]
  },
  {
   "cell_type": "code",
   "execution_count": 124,
   "metadata": {},
   "outputs": [
    {
     "name": "stdout",
     "output_type": "stream",
     "text": [
      "+------------------------+---------+------------------------+---------------------+------------------------+---------------------+\n",
      "|destination_airport_name|iata_code|Total Inbound Passengers|Total Inbound Flights|Total Inbound Passengers|Total Inbound Flights|\n",
      "+------------------------+---------+------------------------+---------------------+------------------------+---------------------+\n",
      "|    Newark Liberty In...|      EWR|                    4680|                 4680|      2378.2735042735044|   32.577564102564104|\n",
      "|    Astoria Regional ...|      AST|                       5|                    5|                     4.0|                  1.2|\n",
      "|    Cavern City Air T...|      CNM|                      37|                   37|      102.13513513513513|    34.32432432432432|\n",
      "|    Alexandria Intern...|      AEX|                     196|                  196|       634.8979591836735|   25.678571428571427|\n",
      "|    Rochester Interna...|      RST|                     273|                  273|       564.3956043956044|   21.813186813186814|\n",
      "|    Greater Rochester...|      ROC|                     865|                  865|      1548.2300578034683|    32.20809248554913|\n",
      "|    Winchester Region...|      WGO|                       2|                    2|                     1.0|                  1.0|\n",
      "|    Columbus Metropol...|      CSG|                      94|                   94|       580.4893617021277|    18.25531914893617|\n",
      "|    Kendall-Tamiami E...|      TMB|                       7|                    7|                     0.0|   1.5714285714285714|\n",
      "|    Bradford Regional...|      BFD|                      28|                   28|      130.92857142857142|   36.964285714285715|\n",
      "|    Ketchikan Interna...|      KTN|                     179|                  179|       828.6871508379888|     22.3463687150838|\n",
      "|    McGhee Tyson Airport|      TYS|                     823|                  823|       959.5334143377886|   26.956257594167678|\n",
      "|    Brown Field Munic...|      SDM|                       6|                    6|      0.3333333333333333|                  1.0|\n",
      "|    Aberdeen Regional...|      ABR|                      55|                   55|       433.6181818181818|    36.78181818181818|\n",
      "|    Tyndall Air Force...|      PAM|                       5|                    5|                    45.6|                  1.0|\n",
      "|    South Arkansas Re...|      ELD|                      17|                   17|      162.35294117647058|   33.294117647058826|\n",
      "|    Henderson Executi...|      HSH|                       1|                    1|                     6.0|                  1.0|\n",
      "|    Gallup Municipal ...|      GUP|                      42|                   42|       26.30952380952381|   10.261904761904763|\n",
      "|    Naples Municipal ...|      APF|                      14|                   14|      131.64285714285714|   25.214285714285715|\n",
      "|    Owensboro Daviess...|      OWB|                       1|                    1|                     0.0|                 11.0|\n",
      "+------------------------+---------+------------------------+---------------------+------------------------+---------------------+\n",
      "only showing top 20 rows\n",
      "\n"
     ]
    }
   ],
   "source": [
    "df_2008.groupBy(\"destination_airport_name\",\"iata_code\")\\\n",
    "        .agg(count(\"passengers\").alias(\"Total Inbound Passengers\"),\\\n",
    "            count(\"flights\").alias(\"Total Inbound Flights\"),\\\n",
    "            mean(\"passengers\").alias(\"Total Inbound Passengers\"),\\\n",
    "            mean(\"flights\").alias(\"Total Inbound Flights\"),\\\n",
    "            ).show()"
   ]
  },
  {
   "cell_type": "code",
   "execution_count": 125,
   "metadata": {},
   "outputs": [],
   "source": [
    "df_2008_temp = df_2008.groupBy(\"destination_airport_name\",\"iata_code\")\\\n",
    "        .agg(count(\"passengers\").alias(\"Total Inbound Passengers\"),\\\n",
    "            countDistinct(\"flights\").alias(\"Total Inbound Flights\"),\\\n",
    "            mean(\"passengers\").alias(\"Average Daily Passengers\"),\\\n",
    "            mean(\"flights\").alias(\"Average Daily Flights\"),\\\n",
    "            )"
   ]
  },
  {
   "cell_type": "code",
   "execution_count": 126,
   "metadata": {},
   "outputs": [],
   "source": [
    "df_2008_rank = df_2008_temp\\\n",
    "        .withColumn('Rank',dense_rank().over(Window.orderBy(desc('Total Inbound Passengers'))))\\\n",
    "        .withColumnRenamed('destination_airport_name', 'Name')\\\n",
    "        .withColumnRenamed('iata_code', 'IATA code')\\\n",
    "        .filter(col('Rank') <=10)\n"
   ]
  },
  {
   "cell_type": "code",
   "execution_count": 127,
   "metadata": {},
   "outputs": [
    {
     "name": "stdout",
     "output_type": "stream",
     "text": [
      "+--------------------+---------+------------------------+---------------------+------------------------+---------------------+----+\n",
      "|                Name|IATA code|Total Inbound Passengers|Total Inbound Flights|Average Daily Passengers|Average Daily Flights|Rank|\n",
      "+--------------------+---------+------------------------+---------------------+------------------------+---------------------+----+\n",
      "|Chicago O'Hare In...|      ORD|                    9479|                  265|      2784.9765798079966|    37.61683721911594|   1|\n",
      "|Hartsfield Jackso...|      ATL|                    8775|                  276|       4052.626210826211|    45.03612535612535|   2|\n",
      "|Charlotte Douglas...|      CLT|                    6152|                  189|      2444.4878088426526|    33.32899869960988|   3|\n",
      "|Minneapolis-St Pa...|      MSP|                    5988|                  175|      2354.3926185704745|   29.740313961255843|   4|\n",
      "|Philadelphia Inte...|      PHL|                    5880|                  195|      2193.2382653061222|    32.08163265306123|   5|\n",
      "|George Bush Inter...|      IAH|                    5811|                  225|      2559.0633281707105|    36.86886938564791|   6|\n",
      "|Detroit Metropoli...|      DTW|                    5638|                  173|       2523.747250798155|    34.03866619368571|   7|\n",
      "|Memphis Internati...|      MEM|                    5549|                  137|       895.4296269598126|    25.22526581366012|   8|\n",
      "|Dallas Fort Worth...|      DFW|                    5109|                  312|       4479.067919357995|    52.89547856723429|   9|\n",
      "|Cincinnati Northe...|      CVG|                    4821|                  145|      1245.3727442439329|   25.121344119477286|  10|\n",
      "+--------------------+---------+------------------------+---------------------+------------------------+---------------------+----+\n",
      "\n"
     ]
    }
   ],
   "source": [
    "df_2008_rank.show()"
   ]
  },
  {
   "cell_type": "markdown",
   "metadata": {},
   "source": [
    "# User Defined Functions"
   ]
  },
  {
   "cell_type": "markdown",
   "metadata": {},
   "source": [
    "The latitude and longitude coordinates for the destination and origin airports are string values and not numeric. You will create a user-defined function in Python that will convert the string coordinates into numeric coordinates. Below is the Python code that will help you create and use this user-defined function. (Click on the image below to download the code.)"
   ]
  },
  {
   "cell_type": "code",
   "execution_count": 128,
   "metadata": {},
   "outputs": [],
   "source": [
    "from pyspark.sql.functions import udf"
   ]
  },
  {
   "cell_type": "code",
   "execution_count": 129,
   "metadata": {},
   "outputs": [],
   "source": [
    "@udf('double')\n",
    "def get_latitude(coordinates):\n",
    "    split_coords = coordinates.split(',')\n",
    "    if len(split_coords) != 2:\n",
    "        return None\n",
    "\n",
    "    return float(split_coords[0].strip())\n",
    "\n",
    "\n",
    "@udf('double')\n",
    "def get_longitude(coordinates):\n",
    "    split_coords = coordinates.split(',')\n",
    "    if len(split_coords) != 2:\n",
    "        return None\n",
    "\n",
    "    return float(split_coords[1].strip())\n",
    "\n"
   ]
  },
  {
   "cell_type": "code",
   "execution_count": 133,
   "metadata": {},
   "outputs": [],
   "source": [
    "df__final = df_merged_modified_dest_final\\\n",
    ".withColumn('origin_airport_latitude',get_latitude(df_merged_modified_dest_final['origin_airport_coordinates']))\\\n",
    ".withColumn('origin_airport_longitude',get_longitude(df_merged_modified_dest_final['origin_airport_coordinates']))\\\n",
    ".withColumn('destination_airport_latitude',get_latitude(df_merged_modified_dest_final['destination_airport_coordinates']))\\\n",
    ".withColumn('destination_airport_longitude',get_longitude(df_merged_modified_dest_final['destination_airport_coordinates']))\n"
   ]
  },
  {
   "cell_type": "code",
   "execution_count": 134,
   "metadata": {},
   "outputs": [
    {
     "data": {
      "text/plain": [
       "[Row(origin_airport_code='MHK', destination_airport_code='AMW', origin_city='Manhattan, KS', destination_city='Ames, IA', passengers=21, seats=30, flights=1, distance=254.0, origin_population=122049, destination_population=86219, flight_year=2008, flight_month=10, origin_airport_type='medium_airport', origin_airport_name='Manhattan Regional Airport', origin_airport_elevation_ft=1057.0, origin_airport_region='US-KS', origin_airport_municipality='Manhattan', origin_airport_gps_code='KMHK', origin_airport_coordinates='-96.6707992553711, 39.14099884033203', destination_airport_type='small_airport', destination_airport_name='Ames Municipal Airport', destination_airport_elevation_ft=956.0, destination_airport_region='US-IA', destination_airport_municipality='Ames', destination_airport_gps_code='KAMW', iata_code='AMW', destination_airport_coordinates='-93.621803, 41.992001', origin_airport_latitude=-96.6707992553711, origin_airport_longitude=39.14099884033203, destination_airport_latitude=-93.621803, destination_airport_longitude=41.992001),\n",
       " Row(origin_airport_code='EUG', destination_airport_code='RDM', origin_city='Eugene, OR', destination_city='Bend, OR', passengers=41, seats=396, flights=22, distance=103.0, origin_population=284093, destination_population=76034, flight_year=1990, flight_month=11, origin_airport_type='medium_airport', origin_airport_name='Mahlon Sweet Field', origin_airport_elevation_ft=374.0, origin_airport_region='US-OR', origin_airport_municipality='Eugene', origin_airport_gps_code='KEUG', origin_airport_coordinates='-123.21199798583984, 44.12459945678711', destination_airport_type='medium_airport', destination_airport_name='Roberts Field', destination_airport_elevation_ft=3080.0, destination_airport_region='US-OR', destination_airport_municipality='Redmond', destination_airport_gps_code='KRDM', iata_code='RDM', destination_airport_coordinates='-121.1500015, 44.2541008', origin_airport_latitude=-123.21199798583984, origin_airport_longitude=44.12459945678711, destination_airport_latitude=-121.1500015, destination_airport_longitude=44.2541008)]"
      ]
     },
     "execution_count": 134,
     "metadata": {},
     "output_type": "execute_result"
    }
   ],
   "source": [
    "df__final.head(2)"
   ]
  },
  {
   "cell_type": "code",
   "execution_count": null,
   "metadata": {},
   "outputs": [],
   "source": []
  }
 ],
 "metadata": {
  "kernelspec": {
   "display_name": "Python 3",
   "language": "python",
   "name": "python3"
  },
  "language_info": {
   "codemirror_mode": {
    "name": "ipython",
    "version": 3
   },
   "file_extension": ".py",
   "mimetype": "text/x-python",
   "name": "python",
   "nbconvert_exporter": "python",
   "pygments_lexer": "ipython3",
   "version": "3.7.3"
  }
 },
 "nbformat": 4,
 "nbformat_minor": 2
}
