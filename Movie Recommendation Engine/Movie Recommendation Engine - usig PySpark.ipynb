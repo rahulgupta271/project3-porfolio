{
 "cells": [
  {
   "cell_type": "markdown",
   "metadata": {},
   "source": [
    "# Movie Recommendation Engine - using PySpark"
   ]
  },
  {
   "cell_type": "markdown",
   "metadata": {},
   "source": [
    "This project is about creating a movie recommendation engine from the MovieLens data using pySpark. You can download that data by clicking here: MovieLens."
   ]
  },
  {
   "cell_type": "markdown",
   "metadata": {},
   "source": [
    "## Import required modules"
   ]
  },
  {
   "cell_type": "code",
   "execution_count": 93,
   "metadata": {},
   "outputs": [],
   "source": [
    "from pyspark.sql import SparkSession\n",
    "from pyspark import SparkConf\n",
    "from pyspark import SparkContext\n",
    "\n",
    "\n",
    "import pandas as pd\n",
    "import matplotlib.pyplot as plt\n",
    "import numpy as np\n",
    "\n",
    "import os\n",
    "\n",
    "spark = SparkSession.builder.appName('week11') \\\n",
    "        .getOrCreate()\n",
    "\n",
    "sc = SparkContext.getOrCreate(SparkConf().setMaster(\"local[*]\"))"
   ]
  },
  {
   "cell_type": "markdown",
   "metadata": {},
   "source": [
    "### 1. Movie Recommendation Engine"
   ]
  },
  {
   "cell_type": "markdown",
   "metadata": {},
   "source": [
    "a. Prepare Data"
   ]
  },
  {
   "cell_type": "markdown",
   "metadata": {},
   "source": [
    "Load the data from the ratings.csv and movies.csv files and combine them on movieId. The resultant data set should contain all of the user ratings and include movie titles. The schema should look something like this."
   ]
  },
  {
   "cell_type": "raw",
   "metadata": {},
   "source": [
    "|-- userId: integer (nullable = true)\n",
    " |-- movieId: integer (nullable = true)\n",
    " |-- rating: double (nullable = true)\n",
    " |-- timestamp: integer (nullable = true)\n",
    " |-- title: string (nullable = true)\n",
    " |-- genres: string (nullable = true)\n"
   ]
  },
  {
   "cell_type": "markdown",
   "metadata": {},
   "source": [
    "### Importing Data"
   ]
  },
  {
   "cell_type": "code",
   "execution_count": 5,
   "metadata": {},
   "outputs": [],
   "source": [
    "# Create file paths including filenames\n",
    "file_path = r'/home/ram/Documents/650/week11/movielens'\n"
   ]
  },
  {
   "cell_type": "code",
   "execution_count": 6,
   "metadata": {},
   "outputs": [],
   "source": [
    "ratings = spark.read.csv(os.path.join(file_path,'ratings.csv'), header = True)\n"
   ]
  },
  {
   "cell_type": "code",
   "execution_count": 7,
   "metadata": {},
   "outputs": [
    {
     "name": "stdout",
     "output_type": "stream",
     "text": [
      "root\n",
      " |-- userId: string (nullable = true)\n",
      " |-- movieId: string (nullable = true)\n",
      " |-- rating: string (nullable = true)\n",
      " |-- timestamp: string (nullable = true)\n",
      "\n"
     ]
    }
   ],
   "source": [
    "ratings.printSchema()"
   ]
  },
  {
   "cell_type": "code",
   "execution_count": 8,
   "metadata": {},
   "outputs": [
    {
     "name": "stdout",
     "output_type": "stream",
     "text": [
      "+------+-------+------+---------+\n",
      "|userId|movieId|rating|timestamp|\n",
      "+------+-------+------+---------+\n",
      "|     1|      1|   4.0|964982703|\n",
      "|     1|      3|   4.0|964981247|\n",
      "|     1|      6|   4.0|964982224|\n",
      "|     1|     47|   5.0|964983815|\n",
      "|     1|     50|   5.0|964982931|\n",
      "+------+-------+------+---------+\n",
      "only showing top 5 rows\n",
      "\n"
     ]
    }
   ],
   "source": [
    "ratings.show(5)"
   ]
  },
  {
   "cell_type": "code",
   "execution_count": 9,
   "metadata": {},
   "outputs": [],
   "source": [
    "movies = spark.read.csv(os.path.join(file_path,'movies.csv'), header = True)\n"
   ]
  },
  {
   "cell_type": "code",
   "execution_count": 10,
   "metadata": {},
   "outputs": [
    {
     "name": "stdout",
     "output_type": "stream",
     "text": [
      "+-------+--------------------+--------------------+\n",
      "|movieId|               title|              genres|\n",
      "+-------+--------------------+--------------------+\n",
      "|      1|    Toy Story (1995)|Adventure|Animati...|\n",
      "|      2|      Jumanji (1995)|Adventure|Childre...|\n",
      "|      3|Grumpier Old Men ...|      Comedy|Romance|\n",
      "|      4|Waiting to Exhale...|Comedy|Drama|Romance|\n",
      "|      5|Father of the Bri...|              Comedy|\n",
      "+-------+--------------------+--------------------+\n",
      "only showing top 5 rows\n",
      "\n"
     ]
    }
   ],
   "source": [
    "movies.show(5)"
   ]
  },
  {
   "cell_type": "code",
   "execution_count": 11,
   "metadata": {},
   "outputs": [
    {
     "name": "stdout",
     "output_type": "stream",
     "text": [
      "root\n",
      " |-- movieId: string (nullable = true)\n",
      " |-- title: string (nullable = true)\n",
      " |-- genres: string (nullable = true)\n",
      "\n"
     ]
    }
   ],
   "source": [
    "movies.printSchema()"
   ]
  },
  {
   "cell_type": "markdown",
   "metadata": {},
   "source": [
    "### Joining Dataframes"
   ]
  },
  {
   "cell_type": "code",
   "execution_count": 14,
   "metadata": {},
   "outputs": [],
   "source": [
    "joinexpression =  [ratings.movieId == movies.movieId]\n",
    "joinType = \"inner\""
   ]
  },
  {
   "cell_type": "code",
   "execution_count": 48,
   "metadata": {},
   "outputs": [
    {
     "name": "stdout",
     "output_type": "stream",
     "text": [
      "+------+-------+------+---------+--------------------+--------------------+\n",
      "|userId|movieId|rating|timestamp|               title|              genres|\n",
      "+------+-------+------+---------+--------------------+--------------------+\n",
      "|     1|      1|   4.0|964982703|    Toy Story (1995)|Adventure|Animati...|\n",
      "|     1|      3|   4.0|964981247|Grumpier Old Men ...|      Comedy|Romance|\n",
      "|     1|      6|   4.0|964982224|         Heat (1995)|Action|Crime|Thri...|\n",
      "|     1|     47|   5.0|964983815|Seven (a.k.a. Se7...|    Mystery|Thriller|\n",
      "|     1|     50|   5.0|964982931|Usual Suspects, T...|Crime|Mystery|Thr...|\n",
      "+------+-------+------+---------+--------------------+--------------------+\n",
      "only showing top 5 rows\n",
      "\n"
     ]
    }
   ],
   "source": [
    "ratings_movies = ratings.join(movies,joinexpression,joinType)\\\n",
    "                  .drop(movies.movieId)\n",
    "                #.drop(movies.col(\"movieId\"))\n",
    "\n",
    "ratings_movies.show(5)"
   ]
  },
  {
   "cell_type": "code",
   "execution_count": 49,
   "metadata": {},
   "outputs": [
    {
     "data": {
      "text/plain": [
       "100836"
      ]
     },
     "execution_count": 49,
     "metadata": {},
     "output_type": "execute_result"
    }
   ],
   "source": [
    "# Total number of records\n",
    "ratings_movies.count()"
   ]
  },
  {
   "cell_type": "code",
   "execution_count": 50,
   "metadata": {},
   "outputs": [
    {
     "name": "stdout",
     "output_type": "stream",
     "text": [
      "+-------+------------------+----------------+------------------+--------------------+--------------------+------------------+\n",
      "|summary|            userId|         movieId|            rating|           timestamp|               title|            genres|\n",
      "+-------+------------------+----------------+------------------+--------------------+--------------------+------------------+\n",
      "|  count|            100836|          100836|            100836|              100836|              100836|            100836|\n",
      "|   mean|326.12756356856676|19435.2957177992| 3.501556983616962|1.2059460873684695E9|                null|              null|\n",
      "| stddev| 182.6184914635004|35530.9871987003|1.0425292390606342|2.1626103599513078E8|                null|              null|\n",
      "|    min|                 1|               1|               0.5|          1000129365|\"11'09\"\"01 - Sept...|(no genres listed)|\n",
      "|    max|                99|           99992|               5.0|           999873731|À nous la liberté...|           Western|\n",
      "+-------+------------------+----------------+------------------+--------------------+--------------------+------------------+\n",
      "\n"
     ]
    }
   ],
   "source": [
    "# Summary of combined dataset\n",
    "ratings_movies.describe().show()"
   ]
  },
  {
   "cell_type": "code",
   "execution_count": 51,
   "metadata": {},
   "outputs": [
    {
     "data": {
      "text/plain": [
       "DataFrame[userId: string, movieId: string, rating: string, timestamp: string, title: string, genres: string]"
      ]
     },
     "execution_count": 51,
     "metadata": {},
     "output_type": "execute_result"
    }
   ],
   "source": [
    "ratings_movies.na.fill(0)"
   ]
  },
  {
   "cell_type": "code",
   "execution_count": 52,
   "metadata": {},
   "outputs": [
    {
     "name": "stdout",
     "output_type": "stream",
     "text": [
      "root\n",
      " |-- userId: string (nullable = true)\n",
      " |-- movieId: string (nullable = true)\n",
      " |-- rating: string (nullable = true)\n",
      " |-- timestamp: string (nullable = true)\n",
      " |-- title: string (nullable = true)\n",
      " |-- genres: string (nullable = true)\n",
      "\n"
     ]
    }
   ],
   "source": [
    "ratings_movies.printSchema()"
   ]
  },
  {
   "cell_type": "markdown",
   "metadata": {},
   "source": [
    "#### Changing data types of the columns"
   ]
  },
  {
   "cell_type": "code",
   "execution_count": 53,
   "metadata": {},
   "outputs": [],
   "source": [
    "ratings_movies = ratings_movies\\\n",
    "                 .withColumn(\"userId\", ratings_movies.userId.cast('int'))\\\n",
    "                 .withColumn(\"movieId\", ratings_movies.movieId.cast('int'))\\\n",
    "                 .withColumn(\"rating\", ratings_movies.rating.cast('float'))\\\n",
    "                 .withColumn(\"timestamp\", ratings_movies.timestamp.cast('long'))\n",
    "\n",
    "                \n"
   ]
  },
  {
   "cell_type": "code",
   "execution_count": 54,
   "metadata": {},
   "outputs": [
    {
     "name": "stdout",
     "output_type": "stream",
     "text": [
      "root\n",
      " |-- userId: integer (nullable = true)\n",
      " |-- movieId: integer (nullable = true)\n",
      " |-- rating: float (nullable = true)\n",
      " |-- timestamp: long (nullable = true)\n",
      " |-- title: string (nullable = true)\n",
      " |-- genres: string (nullable = true)\n",
      "\n"
     ]
    }
   ],
   "source": [
    "ratings_movies.printSchema()"
   ]
  },
  {
   "cell_type": "markdown",
   "metadata": {},
   "source": [
    "### b. Train Recommender"
   ]
  },
  {
   "cell_type": "markdown",
   "metadata": {},
   "source": [
    "Using the data you prepared in the last step, create a movie recommendation model using collaborative filtering. Spark’s collaborative filtering documentation provides a template for building and testing this model.\n",
    "\n",
    "Before you train the recommendation model, split the data into a training dataset and a testing dataset using the randomSplit dataframe method. Use 80% of your data for training and 20% for testing.\n",
    "\n",
    "After fitting your model using the training dataset, calculate the predictions on the test dataset and use the RegressionEvaluator to calculate the root-mean-square error of the model."
   ]
  },
  {
   "cell_type": "markdown",
   "metadata": {},
   "source": [
    "As a reminder, Spark’s collaborative filtering documentation will be helpful in completing this task."
   ]
  },
  {
   "cell_type": "code",
   "execution_count": 18,
   "metadata": {},
   "outputs": [],
   "source": [
    "from pyspark.ml.evaluation import RegressionEvaluator\n",
    "from pyspark.ml.recommendation import ALS"
   ]
  },
  {
   "cell_type": "markdown",
   "metadata": {},
   "source": [
    "#### Spitting dataset into train and test"
   ]
  },
  {
   "cell_type": "code",
   "execution_count": 55,
   "metadata": {},
   "outputs": [],
   "source": [
    "train_dataset, test_dataset = ratings_movies.randomSplit([0.8, 0.2])"
   ]
  },
  {
   "cell_type": "markdown",
   "metadata": {},
   "source": [
    "### Build the recommendation model using ALS on the training data"
   ]
  },
  {
   "cell_type": "code",
   "execution_count": 57,
   "metadata": {},
   "outputs": [],
   "source": [
    "als = ALS(maxIter=5, regParam=0.01, userCol=\"userId\", \n",
    "          itemCol=\"movieId\", ratingCol=\"rating\",\n",
    "          coldStartStrategy=\"drop\")\n",
    "\n"
   ]
  },
  {
   "cell_type": "markdown",
   "metadata": {},
   "source": [
    "#### Fitting model"
   ]
  },
  {
   "cell_type": "code",
   "execution_count": 58,
   "metadata": {},
   "outputs": [],
   "source": [
    "model = als.fit(train_dataset)"
   ]
  },
  {
   "cell_type": "markdown",
   "metadata": {},
   "source": [
    "#### Evaluate the model by computing the RMSE on the test data"
   ]
  },
  {
   "cell_type": "code",
   "execution_count": 59,
   "metadata": {},
   "outputs": [],
   "source": [
    "predictions = model.transform(test_dataset)"
   ]
  },
  {
   "cell_type": "markdown",
   "metadata": {},
   "source": [
    "#### Print predicted ratings using Alternating Least Squqare model"
   ]
  },
  {
   "cell_type": "code",
   "execution_count": 61,
   "metadata": {},
   "outputs": [
    {
     "name": "stdout",
     "output_type": "stream",
     "text": [
      "+------+-------+------+----------+--------------------+------+----------+\n",
      "|userId|movieId|rating| timestamp|               title|genres|prediction|\n",
      "+------+-------+------+----------+--------------------+------+----------+\n",
      "|   133|    471|   4.0| 843491793|Hudsucker Proxy, ...|Comedy| 3.4064474|\n",
      "|   436|    471|   3.0| 833530187|Hudsucker Proxy, ...|Comedy| 2.5123086|\n",
      "|   599|    471|   2.5|1498518822|Hudsucker Proxy, ...|Comedy| 2.8591874|\n",
      "|   603|    471|   4.0| 954482443|Hudsucker Proxy, ...|Comedy| 2.3766131|\n",
      "|   462|    471|   2.5|1123890831|Hudsucker Proxy, ...|Comedy| 2.7896168|\n",
      "|   610|    471|   4.0|1479544381|Hudsucker Proxy, ...|Comedy|  4.359951|\n",
      "|   555|    471|   3.0| 978746933|Hudsucker Proxy, ...|Comedy|  5.016017|\n",
      "|   312|    471|   4.0|1043175564|Hudsucker Proxy, ...|Comedy|  3.824053|\n",
      "|   469|    471|   5.0| 965425364|Hudsucker Proxy, ...|Comedy| 4.1452274|\n",
      "|   608|    471|   1.5|1117161794|Hudsucker Proxy, ...|Comedy|  4.528984|\n",
      "+------+-------+------+----------+--------------------+------+----------+\n",
      "only showing top 10 rows\n",
      "\n"
     ]
    }
   ],
   "source": [
    "predictions.show(10)"
   ]
  },
  {
   "cell_type": "markdown",
   "metadata": {},
   "source": [
    "#### Evaluate the model by computing the RMSE on the test data"
   ]
  },
  {
   "cell_type": "code",
   "execution_count": 62,
   "metadata": {},
   "outputs": [
    {
     "name": "stdout",
     "output_type": "stream",
     "text": [
      "Root-mean-square error = 1.0836971923314576\n"
     ]
    }
   ],
   "source": [
    "evaluator = RegressionEvaluator(metricName=\"rmse\", labelCol=\"rating\",\n",
    "                                predictionCol=\"prediction\")\n",
    "\n",
    "rmse = evaluator.evaluate(predictions)\n",
    "\n",
    "print(\"Root-mean-square error = \" + str(rmse))"
   ]
  },
  {
   "cell_type": "code",
   "execution_count": null,
   "metadata": {},
   "outputs": [],
   "source": []
  },
  {
   "cell_type": "markdown",
   "metadata": {},
   "source": [
    "### c. Generate top 10 movie recommendations"
   ]
  },
  {
   "cell_type": "markdown",
   "metadata": {},
   "source": [
    "Using the recommendation model, generate the top ten recommendations for each user. Using the show method, print the recommendations for the user IDs, 127, 151, and 300. You should not truncate the results and so should call the show method like this recommendations_127.show(truncate=False)."
   ]
  },
  {
   "cell_type": "code",
   "execution_count": 64,
   "metadata": {},
   "outputs": [
    {
     "name": "stdout",
     "output_type": "stream",
     "text": [
      "+------+-------+------+----------+--------------------+--------------------+\n",
      "|userId|movieId|rating| timestamp|               title|              genres|\n",
      "+------+-------+------+----------+--------------------+--------------------+\n",
      "|   127|    272|   3.0|1263527148|Madness of King G...|        Comedy|Drama|\n",
      "|   127|    903|   3.0|1263527011|      Vertigo (1958)|Drama|Mystery|Rom...|\n",
      "|   127|    910|   4.0|1263527087|Some Like It Hot ...|        Comedy|Crime|\n",
      "|   127|    913|   5.0|1263527066|Maltese Falcon, T...|   Film-Noir|Mystery|\n",
      "|   127|   1276|   4.0|1263527076|Cool Hand Luke (1...|               Drama|\n",
      "|   127|   1302|   2.0|1263527044|Field of Dreams (...|Children|Drama|Fa...|\n",
      "|   127|   1747|   4.0|1263527080|  Wag the Dog (1997)|              Comedy|\n",
      "|   127|   1947|   4.0|1263527174|West Side Story (...|Drama|Musical|Rom...|\n",
      "|   127|   1962|   3.0|1263527180|Driving Miss Dais...|               Drama|\n",
      "|   127|   2100|   2.0|1263527048|       Splash (1984)|Comedy|Fantasy|Ro...|\n",
      "|   127|   2144|   2.0|1263527188|Sixteen Candles (...|      Comedy|Romance|\n",
      "|   127|   2455|   1.0|1263527108|     Fly, The (1986)|Drama|Horror|Sci-...|\n",
      "|   127|   2763|   4.0|1263527039|Thomas Crown Affa...|      Action|Mystery|\n",
      "|   127|   2915|   2.0|1263527194|Risky Business (1...|              Comedy|\n",
      "|   127|   3039|   4.0|1263527135|Trading Places (1...|              Comedy|\n",
      "|   127|   3101|   1.0|1263527055|Fatal Attraction ...|      Drama|Thriller|\n",
      "|   127|   3671|   4.0|1263527112|Blazing Saddles (...|      Comedy|Western|\n",
      "|   127|   4226|   2.0|1263527337|      Memento (2000)|    Mystery|Thriller|\n",
      "|   127|   5060|   5.0|1263527031|M*A*S*H (a.k.a. M...|    Comedy|Drama|War|\n",
      "|   127|  36517|   4.0|1263527372|Constant Gardener...|      Drama|Thriller|\n",
      "+------+-------+------+----------+--------------------+--------------------+\n",
      "only showing top 20 rows\n",
      "\n"
     ]
    }
   ],
   "source": [
    "user_127 = ratings_movies.where(\"userId == 127\")\n",
    "user_127.show()"
   ]
  },
  {
   "cell_type": "markdown",
   "metadata": {},
   "source": [
    "#### Generate top 10 movie recommendations for each user"
   ]
  },
  {
   "cell_type": "code",
   "execution_count": 66,
   "metadata": {},
   "outputs": [
    {
     "name": "stdout",
     "output_type": "stream",
     "text": [
      "+------+--------------------+\n",
      "|userId|     recommendations|\n",
      "+------+--------------------+\n",
      "|   471|[[6818, 6.621679]...|\n",
      "|   463|[[3925, 7.2095037...|\n",
      "|   496|[[4437, 5.94772],...|\n",
      "|   148|[[945, 6.072871],...|\n",
      "|   540|[[6818, 6.951173]...|\n",
      "+------+--------------------+\n",
      "only showing top 5 rows\n",
      "\n"
     ]
    }
   ],
   "source": [
    "userRecs = model.recommendForAllUsers(10)\n",
    "userRecs.show(5)"
   ]
  },
  {
   "cell_type": "code",
   "execution_count": 68,
   "metadata": {},
   "outputs": [
    {
     "name": "stdout",
     "output_type": "stream",
     "text": [
      "+------+-----------------+\n",
      "|userId|              col|\n",
      "+------+-----------------+\n",
      "|   127| [3089, 8.902822]|\n",
      "|   127|[26171, 8.252793]|\n",
      "|   127|[5048, 7.4772496]|\n",
      "|   127|[7700, 7.4134827]|\n",
      "|   127|[1147, 7.3185825]|\n",
      "|   127| [1212, 6.720233]|\n",
      "|   127|  [1464, 6.70711]|\n",
      "|   127|  [82, 6.6343875]|\n",
      "|   127|[7982, 6.5762467]|\n",
      "|   127|[3812, 6.5515623]|\n",
      "+------+-----------------+\n",
      "\n"
     ]
    }
   ],
   "source": [
    "userRecs_127 = userRecs.where(\"userId == 127\")\n",
    "userRecs_127.selectExpr(\"userId\", \"explode(recommendations)\").show()"
   ]
  },
  {
   "cell_type": "code",
   "execution_count": 71,
   "metadata": {},
   "outputs": [
    {
     "name": "stdout",
     "output_type": "stream",
     "text": [
      "+------+----------------------------------------------------------------------------------------------------------------------------------------------------------------------------------------+\n",
      "|userId|recommendations                                                                                                                                                                         |\n",
      "+------+----------------------------------------------------------------------------------------------------------------------------------------------------------------------------------------+\n",
      "|127   |[[3089, 8.902822], [26171, 8.252793], [5048, 7.4772496], [7700, 7.4134827], [1147, 7.3185825], [1212, 6.720233], [1464, 6.70711], [82, 6.6343875], [7982, 6.5762467], [3812, 6.5515623]]|\n",
      "+------+----------------------------------------------------------------------------------------------------------------------------------------------------------------------------------------+\n",
      "\n"
     ]
    }
   ],
   "source": [
    "userRecs_127.show(truncate=False)"
   ]
  },
  {
   "cell_type": "code",
   "execution_count": 69,
   "metadata": {},
   "outputs": [
    {
     "name": "stdout",
     "output_type": "stream",
     "text": [
      "+------+------------------+\n",
      "|userId|               col|\n",
      "+------+------------------+\n",
      "|   151| [7318, 7.3670363]|\n",
      "|   151| [4857, 6.9862633]|\n",
      "|   151| [3200, 6.6272507]|\n",
      "|   151|[80693, 6.5644174]|\n",
      "|   151|  [3435, 6.425026]|\n",
      "|   151|  [3672, 6.299298]|\n",
      "|   151|   [8810, 6.28189]|\n",
      "|   151| [3213, 6.2036424]|\n",
      "|   151|  [3088, 6.194953]|\n",
      "|   151|[80906, 6.1843643]|\n",
      "+------+------------------+\n",
      "\n"
     ]
    }
   ],
   "source": [
    "userRecs_151 = userRecs.where(\"userId == 151\")\n",
    "userRecs_151.selectExpr(\"userId\", \"explode(recommendations)\").show()"
   ]
  },
  {
   "cell_type": "code",
   "execution_count": 70,
   "metadata": {},
   "outputs": [
    {
     "name": "stdout",
     "output_type": "stream",
     "text": [
      "+------+----------------+\n",
      "|userId|             col|\n",
      "+------+----------------+\n",
      "|   300|[1260, 9.612408]|\n",
      "|   300|[1147, 9.508877]|\n",
      "|   300|[1212, 9.044866]|\n",
      "|   300|[2730, 8.667578]|\n",
      "|   300|[7982, 8.422904]|\n",
      "|   300|[3983, 8.128663]|\n",
      "|   300|[6643, 8.122883]|\n",
      "|   300|[3089, 8.023607]|\n",
      "|   300|[4334, 7.944483]|\n",
      "|   300|[8638, 7.728187]|\n",
      "+------+----------------+\n",
      "\n"
     ]
    }
   ],
   "source": [
    "userRecs_300 = userRecs.where(\"userId == 300\")\n",
    "userRecs_300.selectExpr(\"userId\", \"explode(recommendations)\").show()"
   ]
  },
  {
   "cell_type": "markdown",
   "metadata": {},
   "source": [
    "####  Another approach to get recommendations for all 3 users in one go"
   ]
  },
  {
   "cell_type": "code",
   "execution_count": 116,
   "metadata": {},
   "outputs": [],
   "source": [
    "# Create list of users that need recommendations\n",
    "\n",
    "from pyspark.sql.types import IntegerType\n",
    "users = spark.createDataFrame([127,151,300], IntegerType())\\\n",
    "        .withColumnRenamed(\"value\", \"userId\")"
   ]
  },
  {
   "cell_type": "code",
   "execution_count": 117,
   "metadata": {},
   "outputs": [
    {
     "name": "stdout",
     "output_type": "stream",
     "text": [
      "+------+\n",
      "|userId|\n",
      "+------+\n",
      "|   127|\n",
      "|   151|\n",
      "|   300|\n",
      "+------+\n",
      "\n"
     ]
    }
   ],
   "source": [
    "users.show()"
   ]
  },
  {
   "cell_type": "code",
   "execution_count": 118,
   "metadata": {},
   "outputs": [
    {
     "name": "stdout",
     "output_type": "stream",
     "text": [
      "+------+--------------------+\n",
      "|userId|     recommendations|\n",
      "+------+--------------------+\n",
      "|   300|[[1260, 9.612408]...|\n",
      "|   127|[[3089, 8.902822]...|\n",
      "|   151|[[7318, 7.3670363...|\n",
      "+------+--------------------+\n",
      "\n"
     ]
    }
   ],
   "source": [
    "# from fitted model get 10 recommendaitons for the 3 users\n",
    "Recommendations_3users = model.recommendForUserSubset(users, 10)\n",
    "Recommendations_3users.show(5)"
   ]
  },
  {
   "cell_type": "code",
   "execution_count": 119,
   "metadata": {
    "scrolled": true
   },
   "outputs": [
    {
     "name": "stdout",
     "output_type": "stream",
     "text": [
      "+------+------------------+\n",
      "|userId|               col|\n",
      "+------+------------------+\n",
      "|   300|  [1260, 9.612408]|\n",
      "|   300|  [1147, 9.508877]|\n",
      "|   300|  [1212, 9.044866]|\n",
      "|   300|  [2730, 8.667578]|\n",
      "|   300|  [7982, 8.422904]|\n",
      "|   300|  [3983, 8.128663]|\n",
      "|   300|  [6643, 8.122883]|\n",
      "|   300|  [3089, 8.023607]|\n",
      "|   300|  [4334, 7.944483]|\n",
      "|   300|  [8638, 7.728187]|\n",
      "|   127|  [3089, 8.902822]|\n",
      "|   127| [26171, 8.252793]|\n",
      "|   127| [5048, 7.4772496]|\n",
      "|   127| [7700, 7.4134827]|\n",
      "|   127| [1147, 7.3185825]|\n",
      "|   127|  [1212, 6.720233]|\n",
      "|   127|   [1464, 6.70711]|\n",
      "|   127|   [82, 6.6343875]|\n",
      "|   127| [7982, 6.5762467]|\n",
      "|   127| [3812, 6.5515623]|\n",
      "|   151| [7318, 7.3670363]|\n",
      "|   151| [4857, 6.9862633]|\n",
      "|   151| [3200, 6.6272507]|\n",
      "|   151|[80693, 6.5644174]|\n",
      "|   151|  [3435, 6.425026]|\n",
      "|   151|  [3672, 6.299298]|\n",
      "|   151|   [8810, 6.28189]|\n",
      "|   151| [3213, 6.2036424]|\n",
      "|   151|  [3088, 6.194953]|\n",
      "|   151|[80906, 6.1843643]|\n",
      "+------+------------------+\n",
      "\n"
     ]
    }
   ],
   "source": [
    "# printing recommendations for the 3 users\n",
    "Recommendations_3users.selectExpr(\"userId\", \"explode(recommendations)\").show(30)"
   ]
  },
  {
   "cell_type": "code",
   "execution_count": 120,
   "metadata": {},
   "outputs": [
    {
     "data": {
      "text/plain": [
       "[Row(userId=300, recommendations=[Row(movieId=1260, rating=9.612407684326172), Row(movieId=1147, rating=9.50887680053711), Row(movieId=1212, rating=9.044865608215332), Row(movieId=2730, rating=8.667577743530273), Row(movieId=7982, rating=8.422904014587402), Row(movieId=3983, rating=8.128663063049316), Row(movieId=6643, rating=8.122882843017578), Row(movieId=3089, rating=8.02360725402832), Row(movieId=4334, rating=7.944482803344727), Row(movieId=8638, rating=7.728187084197998)])]"
      ]
     },
     "execution_count": 120,
     "metadata": {},
     "output_type": "execute_result"
    }
   ],
   "source": [
    "Recommendations_3users.take(1)"
   ]
  },
  {
   "cell_type": "code",
   "execution_count": null,
   "metadata": {},
   "outputs": [],
   "source": []
  },
  {
   "cell_type": "markdown",
   "metadata": {},
   "source": [
    "### Another approach to print the recommendations with movie names"
   ]
  },
  {
   "cell_type": "code",
   "execution_count": 123,
   "metadata": {},
   "outputs": [
    {
     "name": "stdout",
     "output_type": "stream",
     "text": [
      "+-------+------+\n",
      "|movieId|userId|\n",
      "+-------+------+\n",
      "|   1047|   151|\n",
      "|    634|   151|\n",
      "|    828|   151|\n",
      "|    562|   151|\n",
      "|    747|   151|\n",
      "|    785|   151|\n",
      "|    631|   151|\n",
      "|    102|   151|\n",
      "|    852|   151|\n",
      "|   1367|   151|\n",
      "|    761|   151|\n",
      "|      3|   151|\n",
      "|    788|   151|\n",
      "|    784|   151|\n",
      "|     95|   151|\n",
      "|     12|   151|\n",
      "|    880|   151|\n",
      "|    842|   151|\n",
      "|    216|   151|\n",
      "|    135|   151|\n",
      "+-------+------+\n",
      "only showing top 20 rows\n",
      "\n"
     ]
    }
   ],
   "source": [
    "user_rated= ratings.select('movieId','userId').where(\"userId == 151\").distinct()\n",
    "\n",
    "user_rated.show()"
   ]
  },
  {
   "cell_type": "code",
   "execution_count": 125,
   "metadata": {},
   "outputs": [
    {
     "name": "stdout",
     "output_type": "stream",
     "text": [
      "+-------+------+\n",
      "|movieId|userId|\n",
      "+-------+------+\n",
      "|    296|   151|\n",
      "|   1090|   151|\n",
      "| 115713|   151|\n",
      "|   3210|   151|\n",
      "|  88140|   151|\n",
      "|    829|   151|\n",
      "|   2088|   151|\n",
      "|   2294|   151|\n",
      "|   4821|   151|\n",
      "|  48738|   151|\n",
      "|   3959|   151|\n",
      "|  89864|   151|\n",
      "|   2136|   151|\n",
      "|    691|   151|\n",
      "|   3606|   151|\n",
      "| 121007|   151|\n",
      "|   6731|   151|\n",
      "|  27317|   151|\n",
      "|  26082|   151|\n",
      "| 100553|   151|\n",
      "+-------+------+\n",
      "only showing top 20 rows\n",
      "\n"
     ]
    }
   ],
   "source": [
    "from pyspark.sql.functions import lit\n",
    "\n",
    "# create a combination of all distinct movies (includes rated and non-rated) with the user\n",
    "users_movies = ratings.select('movieId').distinct()\\\n",
    "                        .withColumn('userId', lit(151))\n",
    "\n",
    "users_movies.show()"
   ]
  },
  {
   "cell_type": "code",
   "execution_count": 127,
   "metadata": {},
   "outputs": [
    {
     "name": "stdout",
     "output_type": "stream",
     "text": [
      "+-------+------+\n",
      "|movieId|userId|\n",
      "+-------+------+\n",
      "|    296|   151|\n",
      "|   1090|   151|\n",
      "| 115713|   151|\n",
      "|   3210|   151|\n",
      "|  88140|   151|\n",
      "|    829|   151|\n",
      "|   2088|   151|\n",
      "|   2294|   151|\n",
      "|   4821|   151|\n",
      "|  48738|   151|\n",
      "|   3959|   151|\n",
      "|  89864|   151|\n",
      "|   2136|   151|\n",
      "|    691|   151|\n",
      "|   3606|   151|\n",
      "| 121007|   151|\n",
      "|   6731|   151|\n",
      "|  27317|   151|\n",
      "|  26082|   151|\n",
      "| 100553|   151|\n",
      "+-------+------+\n",
      "only showing top 20 rows\n",
      "\n"
     ]
    }
   ],
   "source": [
    "# prepare users and not rated movies list\n",
    "users_notrated = users_movies.subtract(user_rated).dropna()\n",
    "users_notrated.show()"
   ]
  },
  {
   "cell_type": "code",
   "execution_count": 129,
   "metadata": {},
   "outputs": [
    {
     "name": "stdout",
     "output_type": "stream",
     "text": [
      "root\n",
      " |-- movieId: string (nullable = true)\n",
      " |-- userId: string (nullable = false)\n",
      "\n"
     ]
    }
   ],
   "source": [
    "users_notrated.printSchema()"
   ]
  },
  {
   "cell_type": "code",
   "execution_count": 130,
   "metadata": {},
   "outputs": [],
   "source": [
    "users_notrated = users_notrated\\\n",
    "                 .withColumn(\"userId\", users_notrated.userId.cast('int'))\\\n",
    "                 .withColumn(\"movieId\", users_notrated.movieId.cast('int'))         "
   ]
  },
  {
   "cell_type": "code",
   "execution_count": 131,
   "metadata": {},
   "outputs": [
    {
     "name": "stdout",
     "output_type": "stream",
     "text": [
      "root\n",
      " |-- movieId: integer (nullable = true)\n",
      " |-- userId: integer (nullable = true)\n",
      "\n"
     ]
    }
   ],
   "source": [
    "users_notrated.printSchema()"
   ]
  },
  {
   "cell_type": "code",
   "execution_count": 133,
   "metadata": {},
   "outputs": [
    {
     "name": "stdout",
     "output_type": "stream",
     "text": [
      "+-------+------+----------+\n",
      "|movieId|userId|prediction|\n",
      "+-------+------+----------+\n",
      "|   7318|   151| 7.3670363|\n",
      "|   4857|   151| 6.9862633|\n",
      "|   3200|   151| 6.6272507|\n",
      "|  80693|   151| 6.5644174|\n",
      "|   3435|   151|  6.425026|\n",
      "|   3672|   151|  6.299298|\n",
      "|   8810|   151|   6.28189|\n",
      "|   3213|   151| 6.2036424|\n",
      "|   3088|   151|  6.194953|\n",
      "|  80906|   151| 6.1843643|\n",
      "+-------+------+----------+\n",
      "only showing top 10 rows\n",
      "\n"
     ]
    }
   ],
   "source": [
    "# predict users ratings on these movies that were not already rated by the user, using the fitted ALS model\n",
    "\n",
    "predictions_notrated = model.transform(users_notrated).orderBy('prediction', ascending = False)\n",
    "predictions_notrated.show(10)"
   ]
  },
  {
   "cell_type": "code",
   "execution_count": 134,
   "metadata": {
    "scrolled": true
   },
   "outputs": [
    {
     "name": "stdout",
     "output_type": "stream",
     "text": [
      "+------+-------+--------------------+----------+--------------------+\n",
      "|userId|movieId|               title|prediction|              genres|\n",
      "+------+-------+--------------------+----------+--------------------+\n",
      "|   151|   7318|Passion of the Ch...| 7.3670363|               Drama|\n",
      "|   151|   4857|Fiddler on the Ro...| 6.9862633|       Drama|Musical|\n",
      "|   151|   3200|Last Detail, The ...| 6.6272507|        Comedy|Drama|\n",
      "|   151|  80693|It's Kind of a Fu...| 6.5644174|        Comedy|Drama|\n",
      "|   151|   3435|Double Indemnity ...|  6.425026|Crime|Drama|Film-...|\n",
      "|   151|   3672|        Benji (1974)|  6.299298|  Adventure|Children|\n",
      "|   151|   8810|AVP: Alien vs. Pr...|   6.28189|Action|Horror|Sci...|\n",
      "|   151|   3213|Batman: Mask of t...| 6.2036424|  Animation|Children|\n",
      "|   151|   3088|       Harvey (1950)|  6.194953|      Comedy|Fantasy|\n",
      "|   151|  80906|   Inside Job (2010)| 6.1843643|         Documentary|\n",
      "+------+-------+--------------------+----------+--------------------+\n",
      "only showing top 10 rows\n",
      "\n"
     ]
    }
   ],
   "source": [
    "# Joining with movies data set to get titles for movies\n",
    "\n",
    "joinexpression =  [predictions_notrated.movieId == movies.movieId]\n",
    "joinType = \"inner\"\n",
    "\n",
    "recommendations = predictions_notrated.join(movies,joinexpression,joinType)\\\n",
    "                  .drop(movies.movieId)\n",
    "                #.drop(movies.col(\"movieId\"))\n",
    "\n",
    "recommendations.select(predictions_notrated.userId, predictions_notrated.movieId,\n",
    "                      movies.title, predictions_notrated.prediction, movies.genres)\\\n",
    "                .orderBy('prediction', ascending = False).show(10)\n"
   ]
  },
  {
   "cell_type": "code",
   "execution_count": 135,
   "metadata": {},
   "outputs": [],
   "source": [
    "### creating a function to atomate the steps\n",
    "\n",
    "def recommend(user, no_of_recom):\n",
    "    \"\"\"\n",
    "    Takes 2 inputs\n",
    "    user: user id\n",
    "    no_of_recom: number of recommendations required for the given user\n",
    "    returns: the data frame with movie recommendations for the given user\n",
    "    \"\"\"\n",
    "\n",
    "    user_rated= ratings.select('movieId','userId').where(ratings.userId == user).distinct()\n",
    "\n",
    "\n",
    "    # create a combination of all distinct movies (includes rated and non-rated) with the user\n",
    "    users_movies = ratings.select('movieId').distinct()\\\n",
    "                            .withColumn('userId', lit(user))\n",
    "\n",
    "\n",
    "    # prepare users and not rated movies list\n",
    "    users_notrated = users_movies.subtract(user_rated).dropna()\n",
    "    \n",
    "\n",
    "    # converting columns into int\n",
    "    users_notrated = users_notrated\\\n",
    "                     .withColumn(\"userId\", users_notrated.userId.cast('int'))\\\n",
    "                     .withColumn(\"movieId\", users_notrated.movieId.cast('int'))         \n",
    "\n",
    "\n",
    "    # predict users ratings on these movies that were not already rated by the user, using the fitted ALS model\n",
    "\n",
    "    predictions_notrated = model.transform(users_notrated).orderBy('prediction', ascending = False)\n",
    "    #predictions_notrated.show(10)\n",
    "\n",
    "\n",
    "\n",
    "    # Joining with movies data set to get titles for movies\n",
    "    joinexpression =  [predictions_notrated.movieId == movies.movieId]\n",
    "    joinType = \"inner\"\n",
    "\n",
    "    recommendations = predictions_notrated.join(movies,joinexpression,joinType)\\\n",
    "                      .drop(movies.movieId)\n",
    "                    #.drop(movies.col(\"movieId\"))\n",
    "\n",
    "    recommendations.select(predictions_notrated.userId, predictions_notrated.movieId,\n",
    "                          movies.title, predictions_notrated.prediction, movies.genres)\\\n",
    "                    .orderBy('prediction', ascending = False).show(no_of_recom)\n",
    "\n",
    "    "
   ]
  },
  {
   "cell_type": "code",
   "execution_count": 137,
   "metadata": {},
   "outputs": [
    {
     "name": "stdout",
     "output_type": "stream",
     "text": [
      "+------+-------+--------------------+----------+--------------------+\n",
      "|userId|movieId|               title|prediction|              genres|\n",
      "+------+-------+--------------------+----------+--------------------+\n",
      "|   127|   3089|Bicycle Thieves (...|  8.902822|               Drama|\n",
      "|   127|  26171|Play Time (a.k.a....|  8.252793|              Comedy|\n",
      "|   127|   5048|    Snow Dogs (2002)| 7.4772496|Adventure|Childre...|\n",
      "|   127|   7700|Wages of Fear, Th...| 7.4134827|Action|Adventure|...|\n",
      "|   127|   1147|When We Were King...| 7.3185825|         Documentary|\n",
      "|   127|   1212|Third Man, The (1...|  6.720233|Film-Noir|Mystery...|\n",
      "|   127|   1464| Lost Highway (1997)|   6.70711|Crime|Drama|Fanta...|\n",
      "|   127|     82|Antonia's Line (A...| 6.6343875|        Comedy|Drama|\n",
      "|   127|   7982|Tale of Two Siste...| 6.5762467|Drama|Horror|Myst...|\n",
      "|   127|   3812|Everything You Al...| 6.5515623|              Comedy|\n",
      "+------+-------+--------------------+----------+--------------------+\n",
      "only showing top 10 rows\n",
      "\n"
     ]
    }
   ],
   "source": [
    "# print recommendations for user 127 by calling \"recommend\" function\n",
    "\n",
    "recommend(127,10)"
   ]
  },
  {
   "cell_type": "code",
   "execution_count": 138,
   "metadata": {},
   "outputs": [
    {
     "name": "stdout",
     "output_type": "stream",
     "text": [
      "+------+-------+--------------------+----------+--------------------+\n",
      "|userId|movieId|               title|prediction|              genres|\n",
      "+------+-------+--------------------+----------+--------------------+\n",
      "|   151|   7318|Passion of the Ch...| 7.3670363|               Drama|\n",
      "|   151|   4857|Fiddler on the Ro...| 6.9862633|       Drama|Musical|\n",
      "|   151|   3200|Last Detail, The ...| 6.6272507|        Comedy|Drama|\n",
      "|   151|  80693|It's Kind of a Fu...| 6.5644174|        Comedy|Drama|\n",
      "|   151|   3435|Double Indemnity ...|  6.425026|Crime|Drama|Film-...|\n",
      "|   151|   3672|        Benji (1974)|  6.299298|  Adventure|Children|\n",
      "|   151|   8810|AVP: Alien vs. Pr...|   6.28189|Action|Horror|Sci...|\n",
      "|   151|   3213|Batman: Mask of t...| 6.2036424|  Animation|Children|\n",
      "|   151|   3088|       Harvey (1950)|  6.194953|      Comedy|Fantasy|\n",
      "|   151|  80906|   Inside Job (2010)| 6.1843643|         Documentary|\n",
      "+------+-------+--------------------+----------+--------------------+\n",
      "only showing top 10 rows\n",
      "\n"
     ]
    }
   ],
   "source": [
    "# print recommendations for user 151 by calling \"recommend\" function\n",
    "\n",
    "recommend(151,10)"
   ]
  },
  {
   "cell_type": "code",
   "execution_count": 139,
   "metadata": {},
   "outputs": [
    {
     "name": "stdout",
     "output_type": "stream",
     "text": [
      "+------+-------+--------------------+----------+--------------------+\n",
      "|userId|movieId|               title|prediction|              genres|\n",
      "+------+-------+--------------------+----------+--------------------+\n",
      "|   300|   1260|            M (1931)|  9.612408|Crime|Film-Noir|T...|\n",
      "|   300|   1147|When We Were King...|  9.508877|         Documentary|\n",
      "|   300|   1212|Third Man, The (1...|  9.044866|Film-Noir|Mystery...|\n",
      "|   300|   2730| Barry Lyndon (1975)|  8.667578|   Drama|Romance|War|\n",
      "|   300|   7982|Tale of Two Siste...|  8.422904|Drama|Horror|Myst...|\n",
      "|   300|   3983|You Can Count on ...|  8.128663|       Drama|Romance|\n",
      "|   300|   6643|Tokyo Story (Tôky...|  8.122883|               Drama|\n",
      "|   300|   3089|Bicycle Thieves (...|  8.023607|               Drama|\n",
      "|   300|   4334|        Yi Yi (2000)|  7.944483|               Drama|\n",
      "|   300|   8638|Before Sunset (2004)|  7.728187|       Drama|Romance|\n",
      "+------+-------+--------------------+----------+--------------------+\n",
      "only showing top 10 rows\n",
      "\n"
     ]
    }
   ],
   "source": [
    "# print recommendations for user 300 by calling \"recommend\" function\n",
    "\n",
    "recommend(300,10)"
   ]
  },
  {
   "cell_type": "code",
   "execution_count": null,
   "metadata": {},
   "outputs": [],
   "source": []
  }
 ],
 "metadata": {
  "kernelspec": {
   "display_name": "Python 3",
   "language": "python",
   "name": "python3"
  },
  "language_info": {
   "codemirror_mode": {
    "name": "ipython",
    "version": 3
   },
   "file_extension": ".py",
   "mimetype": "text/x-python",
   "name": "python",
   "nbconvert_exporter": "python",
   "pygments_lexer": "ipython3",
   "version": "3.7.3"
  }
 },
 "nbformat": 4,
 "nbformat_minor": 2
}
